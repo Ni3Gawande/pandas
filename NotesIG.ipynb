{
 "cells": [
  {
   "cell_type": "markdown",
   "id": "06d36f37-628d-4444-a8cf-9d8484b4c678",
   "metadata": {},
   "source": [
    "# Pandas TP avoid"
   ]
  },
  {
   "cell_type": "code",
   "execution_count": 2,
   "id": "6bfc93a8-f425-4269-bc47-43e9660245eb",
   "metadata": {},
   "outputs": [],
   "source": [
    "import pandas as pd"
   ]
  },
  {
   "cell_type": "code",
   "execution_count": 3,
   "id": "9ab5ff70-b3ac-4721-8bf3-80343240dccb",
   "metadata": {},
   "outputs": [],
   "source": [
    "df=pd.read_csv(\"layoffs.csv\")"
   ]
  },
  {
   "cell_type": "code",
   "execution_count": null,
   "id": "b750547b-d100-4255-b88e-a8e739d4f2f3",
   "metadata": {},
   "outputs": [],
   "source": [
    "print(type(df))"
   ]
  },
  {
   "cell_type": "code",
   "execution_count": null,
   "id": "9963c077-da3d-46f0-af86-15d631e2c605",
   "metadata": {},
   "outputs": [],
   "source": [
    "df1['population'].sum()"
   ]
  },
  {
   "cell_type": "code",
   "execution_count": null,
   "id": "a2184384-8c22-4c67-a6b4-353d69024988",
   "metadata": {},
   "outputs": [],
   "source": [
    "df.dtypes"
   ]
  },
  {
   "cell_type": "code",
   "execution_count": null,
   "id": "9d9bae9a-827a-40c9-9265-bfddd9eb0a4e",
   "metadata": {},
   "outputs": [],
   "source": [
    "### Count of rows"
   ]
  },
  {
   "cell_type": "code",
   "execution_count": null,
   "id": "4d0647b6-ecba-42f0-8e4f-43ed643d036a",
   "metadata": {},
   "outputs": [],
   "source": [
    "df.count()"
   ]
  },
  {
   "cell_type": "code",
   "execution_count": null,
   "id": "d072feb6-f14c-4254-8a77-9cb16e9ce62b",
   "metadata": {},
   "outputs": [],
   "source": [
    "df.isnull().sum()"
   ]
  },
  {
   "cell_type": "code",
   "execution_count": null,
   "id": "d6a71175-a757-4ff4-89e4-829d5672d3ef",
   "metadata": {},
   "outputs": [],
   "source": [
    "df[df[\"industry\"].isnull()]"
   ]
  },
  {
   "cell_type": "code",
   "execution_count": null,
   "id": "bca41d07-c1a6-4761-bb8c-19159b075393",
   "metadata": {},
   "outputs": [],
   "source": [
    "df[\"industry\"].nunique()"
   ]
  },
  {
   "cell_type": "code",
   "execution_count": null,
   "id": "548f09b0-92ff-4233-9541-1d5d44458e1d",
   "metadata": {},
   "outputs": [],
   "source": [
    "df[df[\"country\"]== \"India\"]"
   ]
  },
  {
   "cell_type": "code",
   "execution_count": null,
   "id": "b9e0eaa3-0a35-4b28-ab22-c03598600276",
   "metadata": {},
   "outputs": [],
   "source": [
    "df.isnull().sum()"
   ]
  },
  {
   "cell_type": "code",
   "execution_count": null,
   "id": "a5c7e230-3f55-4311-bcdc-41627c2fdf58",
   "metadata": {},
   "outputs": [],
   "source": [
    "df.count()"
   ]
  },
  {
   "cell_type": "code",
   "execution_count": null,
   "id": "4679793b-2a5c-4a3f-9d8d-35dec64ba346",
   "metadata": {},
   "outputs": [],
   "source": [
    "df.shape"
   ]
  },
  {
   "cell_type": "code",
   "execution_count": null,
   "id": "2b65c9f4-eb7f-475b-ac4b-8c93d30f582a",
   "metadata": {},
   "outputs": [],
   "source": [
    "df.info()"
   ]
  },
  {
   "cell_type": "code",
   "execution_count": null,
   "id": "650f2270-ded2-4a2a-b2ca-2926cb52df46",
   "metadata": {},
   "outputs": [],
   "source": [
    "df.head(n=10)"
   ]
  },
  {
   "cell_type": "code",
   "execution_count": null,
   "id": "ff763b46-eaa6-4402-b298-13f47921125a",
   "metadata": {},
   "outputs": [],
   "source": [
    "df.tail()"
   ]
  },
  {
   "cell_type": "markdown",
   "id": "e69c71b7-5ad2-4e35-bc8b-65d218348b8d",
   "metadata": {},
   "source": [
    "df.describe()"
   ]
  },
  {
   "cell_type": "code",
   "execution_count": null,
   "id": "d24eb809-6e4b-421f-a874-e1bd9d9bf0bf",
   "metadata": {},
   "outputs": [],
   "source": [
    "df.dtypes"
   ]
  },
  {
   "cell_type": "code",
   "execution_count": null,
   "id": "e84ee29b-f760-42da-aa0f-a3b42b80d340",
   "metadata": {},
   "outputs": [],
   "source": [
    "df"
   ]
  },
  {
   "cell_type": "markdown",
   "id": "47a3622e-fa67-49e3-b70b-2dd8007ba828",
   "metadata": {
    "jp-MarkdownHeadingCollapsed": true
   },
   "source": [
    "# Pandas Basic 1 (dtypes,shape,head(),tail(),describe(),info())"
   ]
  },
  {
   "cell_type": "code",
   "execution_count": null,
   "id": "224923d5-b994-4652-868b-539a061b816a",
   "metadata": {
    "scrolled": true
   },
   "outputs": [],
   "source": [
    "df"
   ]
  },
  {
   "cell_type": "markdown",
   "id": "0c11715b-85b3-4ceb-b5d4-d041cc306303",
   "metadata": {},
   "source": [
    "### dtypes -- It is udes to find the datatypes of the datframe"
   ]
  },
  {
   "cell_type": "code",
   "execution_count": null,
   "id": "3706670b-fd6b-4449-aff9-c345724f411f",
   "metadata": {},
   "outputs": [],
   "source": [
    "df.dtypes"
   ]
  },
  {
   "cell_type": "markdown",
   "id": "023be7eb-5629-4d72-8bfc-b599d4551f89",
   "metadata": {},
   "source": [
    "### shape it will give the count of table rows and column rows"
   ]
  },
  {
   "cell_type": "code",
   "execution_count": null,
   "id": "1c4ee614-1a3d-4138-8f32-b35a907f9182",
   "metadata": {},
   "outputs": [],
   "source": [
    "df.shape"
   ]
  },
  {
   "cell_type": "code",
   "execution_count": null,
   "id": "e401a38a-92ed-40dc-b668-ab7bf28f342d",
   "metadata": {},
   "outputs": [],
   "source": [
    "##Or\n",
    "sh=df.shape\n",
    "print(f\"Total number of rows are {sh[0]} and columns are {sh[1]}\")"
   ]
  },
  {
   "cell_type": "markdown",
   "id": "dfdc1796-5c3c-42fb-b59b-afa066940f40",
   "metadata": {},
   "source": [
    "### info() -- It is used to find the data types as well as non-null-values in the columns"
   ]
  },
  {
   "cell_type": "code",
   "execution_count": null,
   "id": "1c8a39e7-8fae-4387-899b-de62d508c821",
   "metadata": {},
   "outputs": [],
   "source": [
    "df.info()"
   ]
  },
  {
   "cell_type": "markdown",
   "id": "f9f6a2d4-f6c7-40b3-ad83-fa4f2989346f",
   "metadata": {},
   "source": [
    "### Display first 5 rows and last 5 rows or more"
   ]
  },
  {
   "cell_type": "code",
   "execution_count": null,
   "id": "f659d1bb-f3dd-479b-9863-da2725326074",
   "metadata": {},
   "outputs": [],
   "source": [
    "df.head() #first 5 rows"
   ]
  },
  {
   "cell_type": "code",
   "execution_count": null,
   "id": "8dcc2169-5b12-4325-a6f4-2a772b7003ab",
   "metadata": {},
   "outputs": [],
   "source": [
    "df.head(n=10) #first 10 rows"
   ]
  },
  {
   "cell_type": "code",
   "execution_count": null,
   "id": "87271c01-fdf6-46a2-9464-477fa05adfba",
   "metadata": {},
   "outputs": [],
   "source": [
    "df.tail()"
   ]
  },
  {
   "cell_type": "code",
   "execution_count": null,
   "id": "18790f4b-13f2-4dcb-8273-7e92ad8e826b",
   "metadata": {},
   "outputs": [],
   "source": [
    "df.tail(n=10)"
   ]
  },
  {
   "cell_type": "markdown",
   "id": "9af95b89-53c1-430f-bbec-cadeaa4a3d39",
   "metadata": {
    "jp-MarkdownHeadingCollapsed": true
   },
   "source": [
    "# Count(),isnull() and Distinct[unique(),nunique()]"
   ]
  },
  {
   "cell_type": "markdown",
   "id": "71a2e651-a72f-4e2a-a116-bec9131b598c",
   "metadata": {},
   "source": [
    "## null count and count"
   ]
  },
  {
   "cell_type": "markdown",
   "id": "3300dd2e-9078-4ee2-8976-e3de73860a2d",
   "metadata": {},
   "source": [
    "### to display total number of count in the table for each row"
   ]
  },
  {
   "cell_type": "code",
   "execution_count": null,
   "id": "3cde6d3d-098f-410d-b9e7-3b67f317bc7e",
   "metadata": {},
   "outputs": [],
   "source": [
    "df.count() "
   ]
  },
  {
   "cell_type": "markdown",
   "id": "6a7b13eb-c668-4692-b720-bae9df6d406e",
   "metadata": {},
   "source": [
    "### to display count of particulat column"
   ]
  },
  {
   "cell_type": "code",
   "execution_count": null,
   "id": "59f83c2e-596f-4a9d-92bf-2d3f8e47cfd3",
   "metadata": {},
   "outputs": [],
   "source": [
    "df[\"total_laid_off\"].count()"
   ]
  },
  {
   "cell_type": "code",
   "execution_count": null,
   "id": "0c04e83f-1fbb-4af9-85ee-b4cb8c4f3fb3",
   "metadata": {},
   "outputs": [],
   "source": [
    "#or :-)\n",
    "count_ctry=df[\"country\"].count()\n",
    "print(f\"Count in the country column  is {count_ctry} \")"
   ]
  },
  {
   "cell_type": "markdown",
   "id": "b3a4b89c-e937-4e99-b775-d06102ea8a20",
   "metadata": {},
   "source": [
    "### to display total number of null count in the table for each row"
   ]
  },
  {
   "cell_type": "code",
   "execution_count": null,
   "id": "b5219ded-3983-4b46-af7e-2c3c4ac4f1d7",
   "metadata": {},
   "outputs": [],
   "source": [
    "df.isnull().sum()"
   ]
  },
  {
   "cell_type": "markdown",
   "id": "8f8be444-4ae3-4196-ab2c-366f5c396503",
   "metadata": {},
   "source": [
    "### to display null records of the table"
   ]
  },
  {
   "cell_type": "code",
   "execution_count": null,
   "id": "50e6147b-2ae9-4a0b-9cd0-2ab08994a3c4",
   "metadata": {},
   "outputs": [],
   "source": [
    "df[df.isnull().any(axis=1)]"
   ]
  },
  {
   "cell_type": "markdown",
   "id": "a735efab-32fb-4030-9b34-2f24d1ce2d93",
   "metadata": {},
   "source": [
    "### to display tota number of null in particular column"
   ]
  },
  {
   "cell_type": "code",
   "execution_count": null,
   "id": "62d649ad-b22c-49a1-a32c-9f4204c8daec",
   "metadata": {},
   "outputs": [],
   "source": [
    "df[\"total_laid_off\"].isnull().sum()"
   ]
  },
  {
   "cell_type": "code",
   "execution_count": null,
   "id": "2c7026fc-88ec-4a4f-b4a7-1cac2de672bf",
   "metadata": {},
   "outputs": [],
   "source": [
    "#or:-)\n",
    "l_off=df[\"total_laid_off\"].isnull().sum()\n",
    "print(f\"total number of null in total_laid_off column are {l_off}\")"
   ]
  },
  {
   "cell_type": "markdown",
   "id": "7a8c52f8-4f7d-4709-a4f9-ed8a9a63c03b",
   "metadata": {},
   "source": [
    "## Distinct"
   ]
  },
  {
   "cell_type": "markdown",
   "id": "3150032c-bad1-4562-9e75-7d721d6b4af7",
   "metadata": {},
   "source": [
    "### Distinct/unique records of particular column of dataframe/table"
   ]
  },
  {
   "cell_type": "code",
   "execution_count": null,
   "id": "8cbcc0b9-5ad7-4de9-9959-8d13bb43bdda",
   "metadata": {},
   "outputs": [],
   "source": [
    "df['industry'].unique()"
   ]
  },
  {
   "cell_type": "markdown",
   "id": "0f9c6a87-e855-4e42-9eb8-5b5b86b9e9c0",
   "metadata": {},
   "source": [
    "### Distinct/unique count records of all the  column of dataframe/table"
   ]
  },
  {
   "cell_type": "code",
   "execution_count": null,
   "id": "9059f5c8-462a-4cdc-87ce-8f842322315d",
   "metadata": {},
   "outputs": [],
   "source": [
    "df.nunique()"
   ]
  },
  {
   "cell_type": "markdown",
   "id": "ed25d26d-948c-4d56-a962-20865cedb39f",
   "metadata": {},
   "source": [
    "### Distinct/unique count records of particular  column of dataframe/table"
   ]
  },
  {
   "cell_type": "code",
   "execution_count": null,
   "id": "ac224321-53e4-4304-848c-947f9f774cce",
   "metadata": {},
   "outputs": [],
   "source": [
    "df['industry'].nunique()"
   ]
  },
  {
   "cell_type": "markdown",
   "id": "0e00535f-f8aa-4e64-a651-da36acb1a660",
   "metadata": {},
   "source": [
    "# Filter and Select note:- multiple filter in Operators(logincal operators)"
   ]
  },
  {
   "cell_type": "code",
   "execution_count": null,
   "id": "c009f838-f167-481f-918f-594019824b46",
   "metadata": {},
   "outputs": [],
   "source": [
    "df"
   ]
  },
  {
   "cell_type": "markdown",
   "id": "d4a2e8d1-4bc2-4b05-af7f-6f0e420a81e7",
   "metadata": {},
   "source": [
    "### select particular columns"
   ]
  },
  {
   "cell_type": "code",
   "execution_count": null,
   "id": "c53c8c87-976a-4b03-b022-e2bae1d281c0",
   "metadata": {},
   "outputs": [],
   "source": [
    "df[\"company\"]"
   ]
  },
  {
   "cell_type": "markdown",
   "id": "e7554bdb-8cbe-424c-abc3-708a68dc2bfc",
   "metadata": {},
   "source": [
    "### select multiple columns"
   ]
  },
  {
   "cell_type": "code",
   "execution_count": null,
   "id": "5d7152f9-c5cf-4c1b-9b7e-476d75d8d18e",
   "metadata": {},
   "outputs": [],
   "source": [
    "df[['company','location']]"
   ]
  },
  {
   "cell_type": "code",
   "execution_count": null,
   "id": "55be9c1c-8651-48f3-accc-a7347ef8522a",
   "metadata": {},
   "outputs": [],
   "source": [
    "#or :-)\n",
    "fil=[\"company\",\"location\"]\n",
    "df[fil]"
   ]
  },
  {
   "cell_type": "markdown",
   "id": "15a67000-d3b1-4c6e-a716-0b97cc7ecd4f",
   "metadata": {},
   "source": [
    "### Filter country column column and filter where country is India"
   ]
  },
  {
   "cell_type": "code",
   "execution_count": null,
   "id": "0c88f56a-8080-48b5-b696-f13fccdc8192",
   "metadata": {},
   "outputs": [],
   "source": [
    "df[df['country']=='India']"
   ]
  },
  {
   "cell_type": "markdown",
   "id": "f757b57f-79b9-42ba-ab92-616d45ae5c12",
   "metadata": {},
   "source": [
    "### Filter country column column and filter where country is India and just select particular column "
   ]
  },
  {
   "cell_type": "code",
   "execution_count": null,
   "id": "5f89b95a-efe3-42e4-a48f-063c75c46d69",
   "metadata": {},
   "outputs": [],
   "source": [
    "df[df['country']=='India']['company']"
   ]
  },
  {
   "cell_type": "markdown",
   "id": "88d4cf31-4d0c-44aa-95e0-cd3410b5af07",
   "metadata": {},
   "source": [
    "### Filter country column column and filter where country is India and select multiple column "
   ]
  },
  {
   "cell_type": "code",
   "execution_count": null,
   "id": "51e21c84-f021-481b-b60b-e693c5c6145b",
   "metadata": {},
   "outputs": [],
   "source": [
    "df[df['country']=='India'][['company','location','stage']]"
   ]
  },
  {
   "cell_type": "markdown",
   "id": "7e66a3e7-113a-46b2-be04-89b49132d73c",
   "metadata": {},
   "source": [
    "### Filter according to index in below case 1 is starting index and 5 is last index same like python it will not display end index"
   ]
  },
  {
   "cell_type": "code",
   "execution_count": null,
   "id": "95bca05b-eb65-43eb-adc3-572a68da6e33",
   "metadata": {},
   "outputs": [],
   "source": [
    "df[1:5]"
   ]
  },
  {
   "cell_type": "markdown",
   "id": "c50d95bb-f6b4-4acb-b0d4-f8574a8fd8b1",
   "metadata": {},
   "source": [
    "### Filter according to index for particular column of table in below case 1 is starting index and 5 is last index same like python it will not display end index"
   ]
  },
  {
   "cell_type": "code",
   "execution_count": null,
   "id": "81e1c99f-7811-4e09-9c27-dfc522f470d2",
   "metadata": {},
   "outputs": [],
   "source": [
    "df['company'][1:5]\n"
   ]
  },
  {
   "cell_type": "markdown",
   "id": "8af34461-c495-42ac-8ae9-25fbd6f28db8",
   "metadata": {
    "jp-MarkdownHeadingCollapsed": true
   },
   "source": [
    "# Handling Nulls"
   ]
  },
  {
   "cell_type": "markdown",
   "id": "d1a6a3b9-0ec3-4e22-b0a6-66875869af58",
   "metadata": {},
   "source": [
    "## Delete null"
   ]
  },
  {
   "cell_type": "code",
   "execution_count": 25,
   "id": "52506873-ad8e-4716-9b29-5328e5bf4f9e",
   "metadata": {},
   "outputs": [
    {
     "data": {
      "text/plain": [
       "(2361, 9)"
      ]
     },
     "execution_count": 25,
     "metadata": {},
     "output_type": "execute_result"
    }
   ],
   "source": [
    "df.isna().sum()\n",
    "df.shape"
   ]
  },
  {
   "cell_type": "markdown",
   "id": "fc5c4720-1a78-4d28-81f7-299f058b06b2",
   "metadata": {},
   "source": [
    "### delete if row is having null value in every column"
   ]
  },
  {
   "cell_type": "code",
   "execution_count": null,
   "id": "30e519f6-c210-4f6d-b94d-6eed85a05b82",
   "metadata": {},
   "outputs": [],
   "source": [
    "df.dropna(how='all')"
   ]
  },
  {
   "cell_type": "markdown",
   "id": "65e5dfd2-9008-4016-8dae-78dc4c7877af",
   "metadata": {},
   "source": [
    "### Drop the row which have null in it"
   ]
  },
  {
   "cell_type": "code",
   "execution_count": 24,
   "id": "e59f87a1-6502-416a-89c1-efea70342a49",
   "metadata": {},
   "outputs": [
    {
     "data": {
      "text/plain": [
       "company                  0\n",
       "location                 0\n",
       "industry                 0\n",
       "total_laid_off           0\n",
       "percentage_laid_off      0\n",
       "date                     0\n",
       "stage                    0\n",
       "country                  0\n",
       "funds_raised_millions    0\n",
       "dtype: int64"
      ]
     },
     "execution_count": 24,
     "metadata": {},
     "output_type": "execute_result"
    }
   ],
   "source": [
    "res=df.dropna(how='any')\n",
    "res.isna().sum()"
   ]
  },
  {
   "cell_type": "markdown",
   "id": "972cf742-1ff6-4d6d-990c-567bfd6ca617",
   "metadata": {},
   "source": [
    "### Delete the null records from table"
   ]
  },
  {
   "cell_type": "code",
   "execution_count": 12,
   "id": "3b126000-4684-40be-847a-e038d0bf7c9d",
   "metadata": {},
   "outputs": [
    {
     "data": {
      "text/plain": [
       "company                    0\n",
       "location                   0\n",
       "industry                   4\n",
       "total_laid_off           740\n",
       "percentage_laid_off      785\n",
       "date                       1\n",
       "stage                      6\n",
       "country                    0\n",
       "funds_raised_millions    209\n",
       "dtype: int64"
      ]
     },
     "execution_count": 12,
     "metadata": {},
     "output_type": "execute_result"
    }
   ],
   "source": [
    "df.isna().sum()"
   ]
  },
  {
   "cell_type": "code",
   "execution_count": 19,
   "id": "2da21176-9729-4d17-b4ce-0b36561510da",
   "metadata": {},
   "outputs": [
    {
     "data": {
      "text/plain": [
       "company                    0\n",
       "location                   0\n",
       "industry                   4\n",
       "total_laid_off           737\n",
       "percentage_laid_off      784\n",
       "date                       1\n",
       "stage                      0\n",
       "country                    0\n",
       "funds_raised_millions    205\n",
       "dtype: int64"
      ]
     },
     "execution_count": 19,
     "metadata": {},
     "output_type": "execute_result"
    }
   ],
   "source": [
    "res=df.dropna(subset='stage')\n",
    "res.isna().sum()"
   ]
  },
  {
   "cell_type": "markdown",
   "id": "0eb10f5c-0758-4385-ab17-e26ec881d2c1",
   "metadata": {},
   "source": [
    "### Delete null record from multiple records"
   ]
  },
  {
   "cell_type": "code",
   "execution_count": 22,
   "id": "9c11b7b2-39f5-4523-8890-0ea5d46a98dd",
   "metadata": {},
   "outputs": [
    {
     "data": {
      "text/plain": [
       "company                    0\n",
       "location                   0\n",
       "industry                   0\n",
       "total_laid_off           736\n",
       "percentage_laid_off      783\n",
       "date                       1\n",
       "stage                      0\n",
       "country                    0\n",
       "funds_raised_millions    205\n",
       "dtype: int64"
      ]
     },
     "execution_count": 22,
     "metadata": {},
     "output_type": "execute_result"
    }
   ],
   "source": [
    "res=df.dropna(subset=['stage','industry'])\n",
    "res.isna().sum()"
   ]
  },
  {
   "cell_type": "markdown",
   "id": "22dae397-ea7c-42f5-a1a9-0207184e2e31",
   "metadata": {},
   "source": [
    "## Fill null records"
   ]
  },
  {
   "cell_type": "markdown",
   "id": "fae76895-cf38-4cbc-971b-0a3c92b4bbe6",
   "metadata": {},
   "source": [
    "### fill all the cols which consits null"
   ]
  },
  {
   "cell_type": "code",
   "execution_count": 32,
   "id": "e15e30c6-09ff-4215-8036-dfa79385845c",
   "metadata": {},
   "outputs": [
    {
     "data": {
      "text/html": [
       "<div>\n",
       "<style scoped>\n",
       "    .dataframe tbody tr th:only-of-type {\n",
       "        vertical-align: middle;\n",
       "    }\n",
       "\n",
       "    .dataframe tbody tr th {\n",
       "        vertical-align: top;\n",
       "    }\n",
       "\n",
       "    .dataframe thead th {\n",
       "        text-align: right;\n",
       "    }\n",
       "</style>\n",
       "<table border=\"1\" class=\"dataframe\">\n",
       "  <thead>\n",
       "    <tr style=\"text-align: right;\">\n",
       "      <th></th>\n",
       "      <th>company</th>\n",
       "      <th>location</th>\n",
       "      <th>industry</th>\n",
       "      <th>total_laid_off</th>\n",
       "      <th>percentage_laid_off</th>\n",
       "      <th>date</th>\n",
       "      <th>stage</th>\n",
       "      <th>country</th>\n",
       "      <th>funds_raised_millions</th>\n",
       "    </tr>\n",
       "  </thead>\n",
       "  <tbody>\n",
       "    <tr>\n",
       "      <th>0</th>\n",
       "      <td>Atlassian</td>\n",
       "      <td>Sydney</td>\n",
       "      <td>Other</td>\n",
       "      <td>500.0</td>\n",
       "      <td>0.05</td>\n",
       "      <td>3/6/2023</td>\n",
       "      <td>Post-IPO</td>\n",
       "      <td>Australia</td>\n",
       "      <td>210.0</td>\n",
       "    </tr>\n",
       "    <tr>\n",
       "      <th>1</th>\n",
       "      <td>SiriusXM</td>\n",
       "      <td>New York City</td>\n",
       "      <td>Media</td>\n",
       "      <td>475.0</td>\n",
       "      <td>0.08</td>\n",
       "      <td>3/6/2023</td>\n",
       "      <td>Post-IPO</td>\n",
       "      <td>United States</td>\n",
       "      <td>525.0</td>\n",
       "    </tr>\n",
       "    <tr>\n",
       "      <th>2</th>\n",
       "      <td>Alerzo</td>\n",
       "      <td>Ibadan</td>\n",
       "      <td>Retail</td>\n",
       "      <td>400.0</td>\n",
       "      <td>it had null</td>\n",
       "      <td>3/6/2023</td>\n",
       "      <td>Series B</td>\n",
       "      <td>Nigeria</td>\n",
       "      <td>16.0</td>\n",
       "    </tr>\n",
       "    <tr>\n",
       "      <th>3</th>\n",
       "      <td>UpGrad</td>\n",
       "      <td>Mumbai</td>\n",
       "      <td>Education</td>\n",
       "      <td>120.0</td>\n",
       "      <td>it had null</td>\n",
       "      <td>3/6/2023</td>\n",
       "      <td>Unknown</td>\n",
       "      <td>India</td>\n",
       "      <td>631.0</td>\n",
       "    </tr>\n",
       "    <tr>\n",
       "      <th>4</th>\n",
       "      <td>Loft</td>\n",
       "      <td>Sao Paulo</td>\n",
       "      <td>Real Estate</td>\n",
       "      <td>340.0</td>\n",
       "      <td>0.15</td>\n",
       "      <td>3/3/2023</td>\n",
       "      <td>Unknown</td>\n",
       "      <td>Brazil</td>\n",
       "      <td>788.0</td>\n",
       "    </tr>\n",
       "    <tr>\n",
       "      <th>...</th>\n",
       "      <td>...</td>\n",
       "      <td>...</td>\n",
       "      <td>...</td>\n",
       "      <td>...</td>\n",
       "      <td>...</td>\n",
       "      <td>...</td>\n",
       "      <td>...</td>\n",
       "      <td>...</td>\n",
       "      <td>...</td>\n",
       "    </tr>\n",
       "    <tr>\n",
       "      <th>2356</th>\n",
       "      <td>Blackbaud</td>\n",
       "      <td>Charleston</td>\n",
       "      <td>Other</td>\n",
       "      <td>500.0</td>\n",
       "      <td>0.14</td>\n",
       "      <td>it had null</td>\n",
       "      <td>Post-IPO</td>\n",
       "      <td>United States</td>\n",
       "      <td>it had null</td>\n",
       "    </tr>\n",
       "    <tr>\n",
       "      <th>2357</th>\n",
       "      <td>Yahoo</td>\n",
       "      <td>SF Bay Area</td>\n",
       "      <td>Consumer</td>\n",
       "      <td>1600.0</td>\n",
       "      <td>0.2</td>\n",
       "      <td>2/9/2023</td>\n",
       "      <td>Acquired</td>\n",
       "      <td>United States</td>\n",
       "      <td>6.0</td>\n",
       "    </tr>\n",
       "    <tr>\n",
       "      <th>2358</th>\n",
       "      <td>Hibob</td>\n",
       "      <td>Tel Aviv</td>\n",
       "      <td>HR</td>\n",
       "      <td>70.0</td>\n",
       "      <td>0.3</td>\n",
       "      <td>3/30/2020</td>\n",
       "      <td>Series A</td>\n",
       "      <td>Israel</td>\n",
       "      <td>45.0</td>\n",
       "    </tr>\n",
       "    <tr>\n",
       "      <th>2359</th>\n",
       "      <td>Casper</td>\n",
       "      <td>New York City</td>\n",
       "      <td>Retail</td>\n",
       "      <td>it had null</td>\n",
       "      <td>it had null</td>\n",
       "      <td>9/14/2021</td>\n",
       "      <td>Post-IPO</td>\n",
       "      <td>United States</td>\n",
       "      <td>339.0</td>\n",
       "    </tr>\n",
       "    <tr>\n",
       "      <th>2360</th>\n",
       "      <td>Wildlife Studios</td>\n",
       "      <td>Sao Paulo</td>\n",
       "      <td>Consumer</td>\n",
       "      <td>300.0</td>\n",
       "      <td>0.2</td>\n",
       "      <td>11/28/2022</td>\n",
       "      <td>Unknown</td>\n",
       "      <td>Brazil</td>\n",
       "      <td>260.0</td>\n",
       "    </tr>\n",
       "  </tbody>\n",
       "</table>\n",
       "<p>2361 rows × 9 columns</p>\n",
       "</div>"
      ],
      "text/plain": [
       "               company       location     industry total_laid_off  \\\n",
       "0            Atlassian         Sydney        Other          500.0   \n",
       "1             SiriusXM  New York City        Media          475.0   \n",
       "2               Alerzo         Ibadan       Retail          400.0   \n",
       "3               UpGrad         Mumbai    Education          120.0   \n",
       "4                 Loft      Sao Paulo  Real Estate          340.0   \n",
       "...                ...            ...          ...            ...   \n",
       "2356         Blackbaud     Charleston        Other          500.0   \n",
       "2357             Yahoo    SF Bay Area     Consumer         1600.0   \n",
       "2358             Hibob       Tel Aviv           HR           70.0   \n",
       "2359            Casper  New York City       Retail    it had null   \n",
       "2360  Wildlife Studios      Sao Paulo     Consumer          300.0   \n",
       "\n",
       "     percentage_laid_off         date     stage        country  \\\n",
       "0                   0.05     3/6/2023  Post-IPO      Australia   \n",
       "1                   0.08     3/6/2023  Post-IPO  United States   \n",
       "2            it had null     3/6/2023  Series B        Nigeria   \n",
       "3            it had null     3/6/2023   Unknown          India   \n",
       "4                   0.15     3/3/2023   Unknown         Brazil   \n",
       "...                  ...          ...       ...            ...   \n",
       "2356                0.14  it had null  Post-IPO  United States   \n",
       "2357                 0.2     2/9/2023  Acquired  United States   \n",
       "2358                 0.3    3/30/2020  Series A         Israel   \n",
       "2359         it had null    9/14/2021  Post-IPO  United States   \n",
       "2360                 0.2   11/28/2022   Unknown         Brazil   \n",
       "\n",
       "     funds_raised_millions  \n",
       "0                    210.0  \n",
       "1                    525.0  \n",
       "2                     16.0  \n",
       "3                    631.0  \n",
       "4                    788.0  \n",
       "...                    ...  \n",
       "2356           it had null  \n",
       "2357                   6.0  \n",
       "2358                  45.0  \n",
       "2359                 339.0  \n",
       "2360                 260.0  \n",
       "\n",
       "[2361 rows x 9 columns]"
      ]
     },
     "execution_count": 32,
     "metadata": {},
     "output_type": "execute_result"
    }
   ],
   "source": [
    "res=df.fillna('it had null')\n",
    "res\n",
    "# res.isna().sum()"
   ]
  },
  {
   "cell_type": "markdown",
   "id": "dad3f698-3005-4b8a-8a9f-e131ecc457e3",
   "metadata": {},
   "source": [
    "### fill the particular columns where value is null"
   ]
  },
  {
   "cell_type": "code",
   "execution_count": 39,
   "id": "4a81d8a0-71fd-486b-829e-47c3f893cb2b",
   "metadata": {},
   "outputs": [
    {
     "data": {
      "text/plain": [
       "0       0.05\n",
       "1       0.08\n",
       "2        yes\n",
       "3        yes\n",
       "4       0.15\n",
       "        ... \n",
       "2356    0.14\n",
       "2357     0.2\n",
       "2358     0.3\n",
       "2359     yes\n",
       "2360     0.2\n",
       "Name: percentage_laid_off, Length: 2361, dtype: object"
      ]
     },
     "execution_count": 39,
     "metadata": {},
     "output_type": "execute_result"
    }
   ],
   "source": [
    "df['percentage_laid_off'].fillna('yes')"
   ]
  },
  {
   "cell_type": "code",
   "execution_count": 40,
   "id": "e1cb86c7-4659-4cd6-ba16-d3175b32699a",
   "metadata": {},
   "outputs": [
    {
     "data": {
      "text/html": [
       "<div>\n",
       "<style scoped>\n",
       "    .dataframe tbody tr th:only-of-type {\n",
       "        vertical-align: middle;\n",
       "    }\n",
       "\n",
       "    .dataframe tbody tr th {\n",
       "        vertical-align: top;\n",
       "    }\n",
       "\n",
       "    .dataframe thead th {\n",
       "        text-align: right;\n",
       "    }\n",
       "</style>\n",
       "<table border=\"1\" class=\"dataframe\">\n",
       "  <thead>\n",
       "    <tr style=\"text-align: right;\">\n",
       "      <th></th>\n",
       "      <th>percentage_laid_off</th>\n",
       "      <th>total_laid_off</th>\n",
       "    </tr>\n",
       "  </thead>\n",
       "  <tbody>\n",
       "    <tr>\n",
       "      <th>0</th>\n",
       "      <td>0.05</td>\n",
       "      <td>500.0</td>\n",
       "    </tr>\n",
       "    <tr>\n",
       "      <th>1</th>\n",
       "      <td>0.08</td>\n",
       "      <td>475.0</td>\n",
       "    </tr>\n",
       "    <tr>\n",
       "      <th>2</th>\n",
       "      <td>yes</td>\n",
       "      <td>400.0</td>\n",
       "    </tr>\n",
       "    <tr>\n",
       "      <th>3</th>\n",
       "      <td>yes</td>\n",
       "      <td>120.0</td>\n",
       "    </tr>\n",
       "    <tr>\n",
       "      <th>4</th>\n",
       "      <td>0.15</td>\n",
       "      <td>340.0</td>\n",
       "    </tr>\n",
       "    <tr>\n",
       "      <th>...</th>\n",
       "      <td>...</td>\n",
       "      <td>...</td>\n",
       "    </tr>\n",
       "    <tr>\n",
       "      <th>2356</th>\n",
       "      <td>0.14</td>\n",
       "      <td>500.0</td>\n",
       "    </tr>\n",
       "    <tr>\n",
       "      <th>2357</th>\n",
       "      <td>0.2</td>\n",
       "      <td>1600.0</td>\n",
       "    </tr>\n",
       "    <tr>\n",
       "      <th>2358</th>\n",
       "      <td>0.3</td>\n",
       "      <td>70.0</td>\n",
       "    </tr>\n",
       "    <tr>\n",
       "      <th>2359</th>\n",
       "      <td>yes</td>\n",
       "      <td>yes</td>\n",
       "    </tr>\n",
       "    <tr>\n",
       "      <th>2360</th>\n",
       "      <td>0.2</td>\n",
       "      <td>300.0</td>\n",
       "    </tr>\n",
       "  </tbody>\n",
       "</table>\n",
       "<p>2361 rows × 2 columns</p>\n",
       "</div>"
      ],
      "text/plain": [
       "     percentage_laid_off total_laid_off\n",
       "0                   0.05          500.0\n",
       "1                   0.08          475.0\n",
       "2                    yes          400.0\n",
       "3                    yes          120.0\n",
       "4                   0.15          340.0\n",
       "...                  ...            ...\n",
       "2356                0.14          500.0\n",
       "2357                 0.2         1600.0\n",
       "2358                 0.3           70.0\n",
       "2359                 yes            yes\n",
       "2360                 0.2          300.0\n",
       "\n",
       "[2361 rows x 2 columns]"
      ]
     },
     "execution_count": 40,
     "metadata": {},
     "output_type": "execute_result"
    }
   ],
   "source": [
    "df[['percentage_laid_off','total_laid_off']].fillna('yes')"
   ]
  },
  {
   "cell_type": "markdown",
   "id": "3bdff7c7-fc72-4932-9b5c-63d3058f0f74",
   "metadata": {},
   "source": [
    "### Delete particular row"
   ]
  },
  {
   "cell_type": "code",
   "execution_count": 50,
   "id": "7e892f67-9d4a-4e09-ace2-172adf8107f7",
   "metadata": {},
   "outputs": [
    {
     "data": {
      "text/html": [
       "<div>\n",
       "<style scoped>\n",
       "    .dataframe tbody tr th:only-of-type {\n",
       "        vertical-align: middle;\n",
       "    }\n",
       "\n",
       "    .dataframe tbody tr th {\n",
       "        vertical-align: top;\n",
       "    }\n",
       "\n",
       "    .dataframe thead th {\n",
       "        text-align: right;\n",
       "    }\n",
       "</style>\n",
       "<table border=\"1\" class=\"dataframe\">\n",
       "  <thead>\n",
       "    <tr style=\"text-align: right;\">\n",
       "      <th></th>\n",
       "      <th>company</th>\n",
       "      <th>location</th>\n",
       "      <th>industry</th>\n",
       "      <th>total_laid_off</th>\n",
       "      <th>percentage_laid_off</th>\n",
       "      <th>date</th>\n",
       "      <th>stage</th>\n",
       "      <th>country</th>\n",
       "      <th>funds_raised_millions</th>\n",
       "    </tr>\n",
       "  </thead>\n",
       "  <tbody>\n",
       "    <tr>\n",
       "      <th>0</th>\n",
       "      <td>Atlassian</td>\n",
       "      <td>Sydney</td>\n",
       "      <td>Other</td>\n",
       "      <td>500.0</td>\n",
       "      <td>0.05</td>\n",
       "      <td>3/6/2023</td>\n",
       "      <td>Post-IPO</td>\n",
       "      <td>Australia</td>\n",
       "      <td>210.0</td>\n",
       "    </tr>\n",
       "    <tr>\n",
       "      <th>1</th>\n",
       "      <td>SiriusXM</td>\n",
       "      <td>New York City</td>\n",
       "      <td>Media</td>\n",
       "      <td>475.0</td>\n",
       "      <td>0.08</td>\n",
       "      <td>3/6/2023</td>\n",
       "      <td>Post-IPO</td>\n",
       "      <td>United States</td>\n",
       "      <td>525.0</td>\n",
       "    </tr>\n",
       "    <tr>\n",
       "      <th>3</th>\n",
       "      <td>UpGrad</td>\n",
       "      <td>Mumbai</td>\n",
       "      <td>Education</td>\n",
       "      <td>120.0</td>\n",
       "      <td>NaN</td>\n",
       "      <td>3/6/2023</td>\n",
       "      <td>Unknown</td>\n",
       "      <td>India</td>\n",
       "      <td>631.0</td>\n",
       "    </tr>\n",
       "    <tr>\n",
       "      <th>4</th>\n",
       "      <td>Loft</td>\n",
       "      <td>Sao Paulo</td>\n",
       "      <td>Real Estate</td>\n",
       "      <td>340.0</td>\n",
       "      <td>0.15</td>\n",
       "      <td>3/3/2023</td>\n",
       "      <td>Unknown</td>\n",
       "      <td>Brazil</td>\n",
       "      <td>788.0</td>\n",
       "    </tr>\n",
       "    <tr>\n",
       "      <th>5</th>\n",
       "      <td>Embark Trucks</td>\n",
       "      <td>SF Bay Area</td>\n",
       "      <td>Transportation</td>\n",
       "      <td>230.0</td>\n",
       "      <td>0.70</td>\n",
       "      <td>3/3/2023</td>\n",
       "      <td>Post-IPO</td>\n",
       "      <td>United States</td>\n",
       "      <td>317.0</td>\n",
       "    </tr>\n",
       "    <tr>\n",
       "      <th>...</th>\n",
       "      <td>...</td>\n",
       "      <td>...</td>\n",
       "      <td>...</td>\n",
       "      <td>...</td>\n",
       "      <td>...</td>\n",
       "      <td>...</td>\n",
       "      <td>...</td>\n",
       "      <td>...</td>\n",
       "      <td>...</td>\n",
       "    </tr>\n",
       "    <tr>\n",
       "      <th>2356</th>\n",
       "      <td>Blackbaud</td>\n",
       "      <td>Charleston</td>\n",
       "      <td>Other</td>\n",
       "      <td>500.0</td>\n",
       "      <td>0.14</td>\n",
       "      <td>NaN</td>\n",
       "      <td>Post-IPO</td>\n",
       "      <td>United States</td>\n",
       "      <td>NaN</td>\n",
       "    </tr>\n",
       "    <tr>\n",
       "      <th>2357</th>\n",
       "      <td>Yahoo</td>\n",
       "      <td>SF Bay Area</td>\n",
       "      <td>Consumer</td>\n",
       "      <td>1600.0</td>\n",
       "      <td>0.20</td>\n",
       "      <td>2/9/2023</td>\n",
       "      <td>Acquired</td>\n",
       "      <td>United States</td>\n",
       "      <td>6.0</td>\n",
       "    </tr>\n",
       "    <tr>\n",
       "      <th>2358</th>\n",
       "      <td>Hibob</td>\n",
       "      <td>Tel Aviv</td>\n",
       "      <td>HR</td>\n",
       "      <td>70.0</td>\n",
       "      <td>0.30</td>\n",
       "      <td>3/30/2020</td>\n",
       "      <td>Series A</td>\n",
       "      <td>Israel</td>\n",
       "      <td>45.0</td>\n",
       "    </tr>\n",
       "    <tr>\n",
       "      <th>2359</th>\n",
       "      <td>Casper</td>\n",
       "      <td>New York City</td>\n",
       "      <td>Retail</td>\n",
       "      <td>NaN</td>\n",
       "      <td>NaN</td>\n",
       "      <td>9/14/2021</td>\n",
       "      <td>Post-IPO</td>\n",
       "      <td>United States</td>\n",
       "      <td>339.0</td>\n",
       "    </tr>\n",
       "    <tr>\n",
       "      <th>2360</th>\n",
       "      <td>Wildlife Studios</td>\n",
       "      <td>Sao Paulo</td>\n",
       "      <td>Consumer</td>\n",
       "      <td>300.0</td>\n",
       "      <td>0.20</td>\n",
       "      <td>11/28/2022</td>\n",
       "      <td>Unknown</td>\n",
       "      <td>Brazil</td>\n",
       "      <td>260.0</td>\n",
       "    </tr>\n",
       "  </tbody>\n",
       "</table>\n",
       "<p>2360 rows × 9 columns</p>\n",
       "</div>"
      ],
      "text/plain": [
       "               company       location        industry  total_laid_off  \\\n",
       "0            Atlassian         Sydney           Other           500.0   \n",
       "1             SiriusXM  New York City           Media           475.0   \n",
       "3               UpGrad         Mumbai       Education           120.0   \n",
       "4                 Loft      Sao Paulo     Real Estate           340.0   \n",
       "5        Embark Trucks    SF Bay Area  Transportation           230.0   \n",
       "...                ...            ...             ...             ...   \n",
       "2356         Blackbaud     Charleston           Other           500.0   \n",
       "2357             Yahoo    SF Bay Area        Consumer          1600.0   \n",
       "2358             Hibob       Tel Aviv              HR            70.0   \n",
       "2359            Casper  New York City          Retail             NaN   \n",
       "2360  Wildlife Studios      Sao Paulo        Consumer           300.0   \n",
       "\n",
       "      percentage_laid_off        date     stage        country  \\\n",
       "0                    0.05    3/6/2023  Post-IPO      Australia   \n",
       "1                    0.08    3/6/2023  Post-IPO  United States   \n",
       "3                     NaN    3/6/2023   Unknown          India   \n",
       "4                    0.15    3/3/2023   Unknown         Brazil   \n",
       "5                    0.70    3/3/2023  Post-IPO  United States   \n",
       "...                   ...         ...       ...            ...   \n",
       "2356                 0.14         NaN  Post-IPO  United States   \n",
       "2357                 0.20    2/9/2023  Acquired  United States   \n",
       "2358                 0.30   3/30/2020  Series A         Israel   \n",
       "2359                  NaN   9/14/2021  Post-IPO  United States   \n",
       "2360                 0.20  11/28/2022   Unknown         Brazil   \n",
       "\n",
       "      funds_raised_millions  \n",
       "0                     210.0  \n",
       "1                     525.0  \n",
       "3                     631.0  \n",
       "4                     788.0  \n",
       "5                     317.0  \n",
       "...                     ...  \n",
       "2356                    NaN  \n",
       "2357                    6.0  \n",
       "2358                   45.0  \n",
       "2359                  339.0  \n",
       "2360                  260.0  \n",
       "\n",
       "[2360 rows x 9 columns]"
      ]
     },
     "execution_count": 50,
     "metadata": {},
     "output_type": "execute_result"
    }
   ],
   "source": [
    "df.drop(df[(df['country']=='Nigeria') & (df['company']=='Alerzo') & (df['date']=='3/6/2023')].index)"
   ]
  },
  {
   "cell_type": "code",
   "execution_count": null,
   "id": "47310b5c-3aaf-4a5e-95ca-f1d7a86cc542",
   "metadata": {},
   "outputs": [],
   "source": []
  },
  {
   "cell_type": "markdown",
   "id": "ddcb861a-19f4-4a0c-a3ce-a27efa13e395",
   "metadata": {
    "jp-MarkdownHeadingCollapsed": true
   },
   "source": [
    "# Operators df2 is mention here"
   ]
  },
  {
   "cell_type": "markdown",
   "id": "207c83e1-d5da-433b-83ce-c09d6146f9da",
   "metadata": {},
   "source": [
    "## Logical Operators (& as and,| as or,~ as not),between,isin"
   ]
  },
  {
   "cell_type": "code",
   "execution_count": null,
   "id": "0ec8b2ca-3bdd-4a5d-a104-e1d623172ebb",
   "metadata": {},
   "outputs": [],
   "source": [
    "df"
   ]
  },
  {
   "cell_type": "markdown",
   "id": "7ad7ab01-06ac-4a72-9517-650f2dccc19f",
   "metadata": {},
   "source": [
    "## &(and) operator"
   ]
  },
  {
   "cell_type": "code",
   "execution_count": null,
   "id": "025093b7-846d-442f-9901-4a98746f0cfd",
   "metadata": {},
   "outputs": [],
   "source": [
    "df[(df['location']=='Mumbai') & (df['country']=='India')]"
   ]
  },
  {
   "cell_type": "markdown",
   "id": "7796533b-29cf-4b69-a96c-00cca184a510",
   "metadata": {},
   "source": [
    "### &(and) operator with single select"
   ]
  },
  {
   "cell_type": "code",
   "execution_count": null,
   "id": "1ead82ef-9821-4d9d-9644-a091e636e567",
   "metadata": {},
   "outputs": [],
   "source": [
    "df[(df['location']=='Mumbai') & (df['country']=='India')]['stage']"
   ]
  },
  {
   "cell_type": "markdown",
   "id": "eba344fc-2f91-4e04-97ef-3e180b139ccf",
   "metadata": {},
   "source": [
    "### &(and) operator with multiple select"
   ]
  },
  {
   "cell_type": "code",
   "execution_count": null,
   "id": "8c77b09e-70ab-45ff-abb7-4946203cea26",
   "metadata": {},
   "outputs": [],
   "source": [
    "df[(df['location']=='Mumbai') & (df['country']=='India')][['stage','company']]"
   ]
  },
  {
   "cell_type": "markdown",
   "id": "4afdadb4-dd1f-45ff-9960-5cff10c72c48",
   "metadata": {},
   "source": [
    "## |(or) operator"
   ]
  },
  {
   "cell_type": "code",
   "execution_count": null,
   "id": "dd33fb9a-9485-4dfb-91e9-b861f4ae7546",
   "metadata": {},
   "outputs": [],
   "source": [
    "df[(df['country']=='India') | (df['location']=='Sydney')]"
   ]
  },
  {
   "cell_type": "markdown",
   "id": "75a339a9-c6b0-43cb-b712-082fef59e0e5",
   "metadata": {},
   "source": [
    "### |(or) operator with single select"
   ]
  },
  {
   "cell_type": "code",
   "execution_count": null,
   "id": "9f3bda7f-cee9-4bab-aceb-da266e1ddb1b",
   "metadata": {},
   "outputs": [],
   "source": [
    "df[(df['country']=='India') | (df['location']=='Sydney')]['industry']"
   ]
  },
  {
   "cell_type": "markdown",
   "id": "5c8f5fe6-065d-4253-8e27-9a7d92323c2c",
   "metadata": {},
   "source": [
    "### |(or) operator with multi select"
   ]
  },
  {
   "cell_type": "code",
   "execution_count": null,
   "id": "d51b4f8a-1fd4-4f81-b28c-1ccad7f276cc",
   "metadata": {},
   "outputs": [],
   "source": [
    "df[(df['country']=='India') | (df['location']=='Sydney')][['industry','company']]"
   ]
  },
  {
   "cell_type": "markdown",
   "id": "105d2a10-551e-45d7-9a18-16e7d447a42f",
   "metadata": {},
   "source": [
    "## multiple operator"
   ]
  },
  {
   "cell_type": "code",
   "execution_count": null,
   "id": "08d444a9-57c5-47b5-9872-646934222539",
   "metadata": {},
   "outputs": [],
   "source": [
    "df[(df['location']=='India') & (df['country']=='India') | (df['industry']=='Other')]"
   ]
  },
  {
   "cell_type": "markdown",
   "id": "0325f93a-bde3-4ee7-8813-36efd7d065ed",
   "metadata": {},
   "source": [
    "## between and isin([])"
   ]
  },
  {
   "cell_type": "markdown",
   "id": "a6a3dcfb-c08a-4095-9ea3-13d3ba6b83cb",
   "metadata": {},
   "source": [
    "### isin selected single column we have to pass list in isin()"
   ]
  },
  {
   "cell_type": "code",
   "execution_count": null,
   "id": "9c295b52-ae34-4f12-bfd0-827dd9b19eae",
   "metadata": {},
   "outputs": [],
   "source": [
    "df[df['country'].isin(['India'])]"
   ]
  },
  {
   "cell_type": "markdown",
   "id": "be9f2944-f8cb-4edb-b7aa-a3a5cc4e4e9f",
   "metadata": {},
   "source": [
    "### isin selected multiple column"
   ]
  },
  {
   "cell_type": "code",
   "execution_count": null,
   "id": "ddfa1ec2-d295-48a5-aedc-d666f1c5e347",
   "metadata": {},
   "outputs": [],
   "source": [
    "df[df['country'].isin(['India','Brazil'])]"
   ]
  },
  {
   "cell_type": "markdown",
   "id": "b0886d69-b275-488a-8ed5-3d07dd6a534f",
   "metadata": {},
   "source": [
    "### isin selected multiple column and single and multiple select"
   ]
  },
  {
   "cell_type": "code",
   "execution_count": null,
   "id": "e87ac67f-ae7f-4f95-b0b7-a06081583bcf",
   "metadata": {},
   "outputs": [],
   "source": [
    "df[df['country'].isin(['India','Brazil'])]['stage']"
   ]
  },
  {
   "cell_type": "code",
   "execution_count": null,
   "id": "c7b6c841-9f26-417a-8753-49c153525c86",
   "metadata": {},
   "outputs": [],
   "source": [
    "df[df['country'].isin(['India','Brazil'])][['stage','company']]"
   ]
  },
  {
   "cell_type": "markdown",
   "id": "4de25676-2c89-4515-be26-839a26e1c008",
   "metadata": {},
   "source": [
    "### ~(not) isin([])"
   ]
  },
  {
   "cell_type": "code",
   "execution_count": null,
   "id": "5fba0d1a-8f99-40fe-8c69-c8d2b2437a15",
   "metadata": {},
   "outputs": [],
   "source": [
    "df[~df['country'].isin(['India'])]"
   ]
  },
  {
   "cell_type": "markdown",
   "id": "82ea5ba7-a98c-44d4-ae23-fe0beb97f3c0",
   "metadata": {},
   "source": [
    "### between()"
   ]
  },
  {
   "cell_type": "code",
   "execution_count": null,
   "id": "044561aa-329b-4898-9083-7a4a70bce040",
   "metadata": {},
   "outputs": [],
   "source": [
    "df2=pd.read_csv(\"pokemon.csv\")"
   ]
  },
  {
   "cell_type": "code",
   "execution_count": null,
   "id": "f0bf3538-e0bd-4059-b080-9d3d162e13ef",
   "metadata": {},
   "outputs": [],
   "source": [
    "df2"
   ]
  },
  {
   "cell_type": "code",
   "execution_count": null,
   "id": "cdc02531-ba4a-4baf-a9c2-6a18118cb5e4",
   "metadata": {},
   "outputs": [],
   "source": [
    "df2[df2['Speed'].between(40,43)]"
   ]
  },
  {
   "cell_type": "markdown",
   "id": "e37fafc7-7558-4146-9d60-3bfc6eb2fc03",
   "metadata": {},
   "source": [
    "### not between()"
   ]
  },
  {
   "cell_type": "code",
   "execution_count": null,
   "id": "7c593d9f-9ef2-4538-aa44-90dc59d350e5",
   "metadata": {},
   "outputs": [],
   "source": [
    "df2[~df2['Id'].between(12,800)]"
   ]
  },
  {
   "cell_type": "markdown",
   "id": "90578e93-059c-4e47-85f8-5e28d1e94733",
   "metadata": {
    "jp-MarkdownHeadingCollapsed": true
   },
   "source": [
    "# Comparision Operator (==,>=,<=,!=)"
   ]
  },
  {
   "cell_type": "code",
   "execution_count": null,
   "id": "8ac8c5e4-f86e-4824-a0e4-a2d14c8243bc",
   "metadata": {},
   "outputs": [],
   "source": [
    "df2.columns=[columns.replace(\" \",\"\") for columns in df2]"
   ]
  },
  {
   "cell_type": "code",
   "execution_count": null,
   "id": "5a88a09e-7597-49b2-8a65-643c76871f6d",
   "metadata": {},
   "outputs": [],
   "source": [
    "df2.columns"
   ]
  },
  {
   "cell_type": "markdown",
   "id": "9eb6d866-137b-4c1e-b429-10114f82b120",
   "metadata": {},
   "source": [
    "## == Operator"
   ]
  },
  {
   "cell_type": "markdown",
   "id": "acc6dbd2-8280-40e9-82af-dcfa57b173e3",
   "metadata": {
    "jp-MarkdownHeadingCollapsed": true
   },
   "source": [
    "### == with comparision operators"
   ]
  },
  {
   "cell_type": "code",
   "execution_count": null,
   "id": "69212d31-d510-46a4-a480-60eb31db0f6c",
   "metadata": {},
   "outputs": [],
   "source": [
    "df2[df2['Attack']==49]#"
   ]
  },
  {
   "cell_type": "markdown",
   "id": "fb6a9afa-19c3-40c6-9114-134b29345f1e",
   "metadata": {
    "jp-MarkdownHeadingCollapsed": true
   },
   "source": [
    "### == with comparision and logical operators &(and) "
   ]
  },
  {
   "cell_type": "code",
   "execution_count": null,
   "id": "ab7d87bf-90f9-48b2-8ff1-ac480960ed49",
   "metadata": {},
   "outputs": [],
   "source": [
    "df2[(df2['Attack']==49) & (df2['Generation']==1)]"
   ]
  },
  {
   "cell_type": "markdown",
   "id": "d0b881d7-5a6f-4807-9451-2891d139835f",
   "metadata": {
    "jp-MarkdownHeadingCollapsed": true
   },
   "source": [
    "### == with comparision and logical operators |(or) "
   ]
  },
  {
   "cell_type": "code",
   "execution_count": null,
   "id": "dc94b284-da0a-4797-b6fc-be38f6f84c1d",
   "metadata": {},
   "outputs": [],
   "source": [
    "df2[(df2['Attack']==49) | (df2['Generation']==1)]"
   ]
  },
  {
   "cell_type": "markdown",
   "id": "1bb85cfc-3b2a-4e26-8b37-52aeb78ce589",
   "metadata": {},
   "source": [
    "### == with comparision and logical operators &(and) also isin()"
   ]
  },
  {
   "cell_type": "code",
   "execution_count": null,
   "id": "3962beb5-c84a-4156-b160-c73b4641513f",
   "metadata": {},
   "outputs": [],
   "source": [
    "df2[(df2['Attack'].isin([49,63])) & (df2['Generation']==1)]"
   ]
  },
  {
   "cell_type": "markdown",
   "id": "41fe9936-c474-4d70-8e8f-b9653753e33c",
   "metadata": {},
   "source": [
    "### == with comparision and logical operators or(|) also isin()"
   ]
  },
  {
   "cell_type": "code",
   "execution_count": null,
   "id": "19f0beb9-2b93-4393-bc6e-24b9d3d5ed60",
   "metadata": {},
   "outputs": [],
   "source": [
    "df2[(df2['Attack'].isin([49,63])) | (df2['Generation']==1)]"
   ]
  },
  {
   "cell_type": "markdown",
   "id": "e06a3ebd-eaf0-4f81-8045-c3d6a908b526",
   "metadata": {
    "jp-MarkdownHeadingCollapsed": true
   },
   "source": [
    "## >= Operator"
   ]
  },
  {
   "cell_type": "code",
   "execution_count": null,
   "id": "f9c8bbef-5ce1-48c8-b3e4-0145ab10428f",
   "metadata": {},
   "outputs": [],
   "source": [
    "df2[df2['Attack']>=100]"
   ]
  },
  {
   "cell_type": "markdown",
   "id": "e3a90da3-fb01-4afe-a04f-e4fcd3e43fc6",
   "metadata": {
    "jp-MarkdownHeadingCollapsed": true
   },
   "source": [
    "## <= Operator"
   ]
  },
  {
   "cell_type": "code",
   "execution_count": null,
   "id": "9f1b86c9-fe93-4413-b1d6-60ffa397327b",
   "metadata": {},
   "outputs": [],
   "source": [
    "df2[df2['Attack']>=100]"
   ]
  },
  {
   "cell_type": "markdown",
   "id": "eeaaf078-bfe5-4a24-8883-cb309d1cc1f2",
   "metadata": {},
   "source": [
    "## != Operator"
   ]
  },
  {
   "cell_type": "code",
   "execution_count": null,
   "id": "9613244a-0442-4ef4-888b-33bb853b0a62",
   "metadata": {},
   "outputs": [],
   "source": [
    "df2[df2['Attack']!=100]"
   ]
  },
  {
   "cell_type": "markdown",
   "id": "e24903da-150d-43ab-b159-4240a51b8d34",
   "metadata": {
    "jp-MarkdownHeadingCollapsed": true
   },
   "source": [
    "# Like operator"
   ]
  },
  {
   "cell_type": "markdown",
   "id": "6d03d538-ec5e-4045-a99d-5d4456cb40a2",
   "metadata": {},
   "source": [
    "### str.contains('',na=) like '%sd%' in sql"
   ]
  },
  {
   "cell_type": "code",
   "execution_count": null,
   "id": "5ad763dd-8998-440a-ba64-7aade8f71435",
   "metadata": {},
   "outputs": [],
   "source": [
    "df[df['company'].str.contains('tl',na=False)]"
   ]
  },
  {
   "cell_type": "code",
   "execution_count": null,
   "id": "285d9ea9-4df2-44e4-b854-6d176cc361df",
   "metadata": {},
   "outputs": [],
   "source": [
    "### str.contains('A',na=) like 'A%' in sql"
   ]
  },
  {
   "cell_type": "code",
   "execution_count": null,
   "id": "50da6a68-70cc-43fa-b0d1-2211c284ba68",
   "metadata": {},
   "outputs": [],
   "source": [
    "df[df['company'].str.startswith('A', na=False)]"
   ]
  },
  {
   "cell_type": "code",
   "execution_count": null,
   "id": "ba732961-824a-4245-b990-455393a0e08e",
   "metadata": {},
   "outputs": [],
   "source": []
  },
  {
   "cell_type": "code",
   "execution_count": null,
   "id": "d35c258b-50ff-4f3b-b6bf-5ce8f3dfa77c",
   "metadata": {},
   "outputs": [],
   "source": [
    "df[df['company'].str.endswith('n',na=False)]"
   ]
  },
  {
   "cell_type": "code",
   "execution_count": null,
   "id": "e76f2682-395a-411d-9f20-d4661c58e73b",
   "metadata": {},
   "outputs": [],
   "source": [
    "df[(df['company'].str.endswith('n',na=False)) & (df['company'].str.startswith('A',na=False))]\n"
   ]
  },
  {
   "cell_type": "code",
   "execution_count": null,
   "id": "7b2fb51f-b0ba-4795-b0b0-5e5023da88f8",
   "metadata": {},
   "outputs": [],
   "source": [
    "df[df['company'].str.contains(r'.t*s.i..$',na=False)]"
   ]
  },
  {
   "cell_type": "code",
   "execution_count": null,
   "id": "7372bfeb-4f43-4b3b-ac2c-bdacd230da4d",
   "metadata": {},
   "outputs": [],
   "source": [
    "df[df['company'].str.contains(r'.*i..$', na=False)]\n"
   ]
  },
  {
   "cell_type": "markdown",
   "id": "fa439a1d-d459-49fb-99ff-e4afe0cfe8e2",
   "metadata": {
    "jp-MarkdownHeadingCollapsed": true
   },
   "source": [
    "# Group By groupby() pending yet to start"
   ]
  },
  {
   "cell_type": "code",
   "execution_count": null,
   "id": "a0e5bdbd-fbf3-46cc-b2da-7b7d11144d32",
   "metadata": {},
   "outputs": [],
   "source": [
    "df.groupby('company').value_counts()"
   ]
  },
  {
   "cell_type": "code",
   "execution_count": null,
   "id": "1f3408dd-cad8-43b6-840c-369f0f8ecdfb",
   "metadata": {},
   "outputs": [],
   "source": [
    "df.value_counts()"
   ]
  },
  {
   "cell_type": "code",
   "execution_count": null,
   "id": "f062e7c5-fe40-4043-b0f7-0fd117dab0f2",
   "metadata": {},
   "outputs": [],
   "source": [
    "df.groupby('country')[['location','industry']].value_counts()"
   ]
  },
  {
   "cell_type": "code",
   "execution_count": null,
   "id": "f825d466-d0a9-48a7-a82a-052f1c2588b8",
   "metadata": {},
   "outputs": [],
   "source": [
    "res=df.groupby('country')[['location','company']].value_counts().reset_index()\n",
    "res[res['count']==2]"
   ]
  },
  {
   "cell_type": "code",
   "execution_count": null,
   "id": "a9b9f3a4-cd71-49f7-98b5-37ad68689707",
   "metadata": {},
   "outputs": [],
   "source": [
    "df['country'].value_counts()"
   ]
  },
  {
   "cell_type": "code",
   "execution_count": null,
   "id": "7b50f3c4-13ff-4c8b-b978-65811d626d92",
   "metadata": {},
   "outputs": [],
   "source": [
    "df.groupby('country').count().reset_index()"
   ]
  },
  {
   "cell_type": "code",
   "execution_count": null,
   "id": "700eac64-48b7-4315-b582-b031ef8017a1",
   "metadata": {},
   "outputs": [],
   "source": [
    "df2"
   ]
  },
  {
   "cell_type": "code",
   "execution_count": null,
   "id": "f20c9ebd-0da1-4d47-8ab8-56ab6659635d",
   "metadata": {},
   "outputs": [],
   "source": [
    "df2.groupby('Type1').count().reset_index()"
   ]
  },
  {
   "cell_type": "code",
   "execution_count": null,
   "id": "68b911e8-6a65-4e51-90a1-9310494ff37d",
   "metadata": {},
   "outputs": [],
   "source": [
    "df2[df2['Type2']=='Rock'].isnull().sum()"
   ]
  },
  {
   "cell_type": "code",
   "execution_count": null,
   "id": "aa4fba4a-41ec-46ae-bfe6-d58980d03a59",
   "metadata": {},
   "outputs": [],
   "source": [
    "df2[df2['Type1']==\"Rock\"].isnull().sum()"
   ]
  },
  {
   "cell_type": "code",
   "execution_count": null,
   "id": "36416917-8c41-4515-bee2-9b9cb3902f9d",
   "metadata": {},
   "outputs": [],
   "source": [
    "df2"
   ]
  },
  {
   "cell_type": "code",
   "execution_count": null,
   "id": "a387a229-6d3d-46f2-acb1-5404f7ce9670",
   "metadata": {},
   "outputs": [],
   "source": [
    "df2.groupby(['Type1','Type2']).agg({'Attack':['max','min','count']})"
   ]
  },
  {
   "cell_type": "markdown",
   "id": "ba2aca9f-3a9d-41ff-86e9-12fcd463ca77",
   "metadata": {
    "jp-MarkdownHeadingCollapsed": true
   },
   "source": [
    "# Order by"
   ]
  },
  {
   "cell_type": "code",
   "execution_count": null,
   "id": "094aa5dd-4565-42ed-b45d-c97f267d50dc",
   "metadata": {},
   "outputs": [],
   "source": [
    "df2.sort_values('Attack',ascending=1)"
   ]
  },
  {
   "cell_type": "code",
   "execution_count": null,
   "id": "536b494a-90a5-4091-9758-4f698a84d9d8",
   "metadata": {},
   "outputs": [],
   "source": [
    "df2.sort_values('Attack',ascending=0)"
   ]
  },
  {
   "cell_type": "code",
   "execution_count": null,
   "id": "a61bc13b-f5db-431e-a555-bced6407879f",
   "metadata": {},
   "outputs": [],
   "source": [
    "df2.sort_values(['Attack','Defense'],ascending=[0,0])"
   ]
  },
  {
   "cell_type": "code",
   "execution_count": null,
   "id": "7e557d4f-cce5-4faf-92cf-8170f914c1d7",
   "metadata": {},
   "outputs": [],
   "source": [
    "df2[df2['Type 1']=='Bug'].sort_values('Attack',ascending=1)"
   ]
  },
  {
   "cell_type": "code",
   "execution_count": null,
   "id": "6436e56f-85b5-4021-97a4-f35a6a5e935c",
   "metadata": {},
   "outputs": [],
   "source": [
    "df2[df2['Type 1']=='Bug']['Attack'].max()"
   ]
  },
  {
   "cell_type": "code",
   "execution_count": null,
   "id": "091daaad-82ab-456e-abea-e647ecefdfb8",
   "metadata": {},
   "outputs": [],
   "source": [
    "dd=df2.groupby('Type 1').agg({'Attack':['max','min']}).reset_index()"
   ]
  },
  {
   "cell_type": "code",
   "execution_count": null,
   "id": "bc0e3392-73e5-4432-970d-0dea69aba872",
   "metadata": {},
   "outputs": [],
   "source": [
    "dd['Attack']"
   ]
  },
  {
   "cell_type": "code",
   "execution_count": null,
   "id": "254012cc-39cf-44b4-9a5a-8ea782ee7062",
   "metadata": {},
   "outputs": [],
   "source": [
    "\n",
    "df2.groupby('Attack').apply(lambda x: x.sort_values('Attack', ascending=True)).reset_index(drop=True)\n"
   ]
  },
  {
   "cell_type": "code",
   "execution_count": null,
   "id": "7bb569eb-9e7d-4b15-8a8d-26ff4333bfb6",
   "metadata": {},
   "outputs": [],
   "source": [
    "df2['Attack'].nlargest().reset_index(drop=1)"
   ]
  },
  {
   "cell_type": "markdown",
   "id": "4de6ed87-2a97-4c58-a876-fe8b835497e4",
   "metadata": {
    "jp-MarkdownHeadingCollapsed": true
   },
   "source": [
    "# Concatination"
   ]
  },
  {
   "cell_type": "code",
   "execution_count": null,
   "id": "fe583460-043a-42f9-9b1b-b0300185e62c",
   "metadata": {},
   "outputs": [],
   "source": [
    "df3=df2.copy()"
   ]
  },
  {
   "cell_type": "code",
   "execution_count": null,
   "id": "6d1a557b-146d-4435-b5b6-3b98e51e8a45",
   "metadata": {},
   "outputs": [],
   "source": [
    "df3"
   ]
  },
  {
   "cell_type": "code",
   "execution_count": null,
   "id": "c2e243c9-9f29-4cfc-a2cf-51fd8c9332a6",
   "metadata": {},
   "outputs": [],
   "source": [
    "df3['NameType']=df3['Name'].astype(str)+' '+df3['Type1'].astype(str)"
   ]
  },
  {
   "cell_type": "code",
   "execution_count": null,
   "id": "8a06b230-80fb-418d-8524-5d96bfaee39d",
   "metadata": {},
   "outputs": [],
   "source": [
    "df3"
   ]
  },
  {
   "cell_type": "code",
   "execution_count": null,
   "id": "a13b7c0c-3503-464e-8119-d9b0be99b1e8",
   "metadata": {},
   "outputs": [],
   "source": [
    "df3['Attack']+df3['Defense']"
   ]
  },
  {
   "cell_type": "markdown",
   "id": "e11ebebf-635f-40e5-9252-13ef96f60a8b",
   "metadata": {
    "jp-MarkdownHeadingCollapsed": true
   },
   "source": [
    "# Case Statement"
   ]
  },
  {
   "cell_type": "code",
   "execution_count": null,
   "id": "e47e2352-956d-430e-bf2c-6b5fe57e2501",
   "metadata": {},
   "outputs": [],
   "source": [
    "df4=pd.read_csv(\"ab.csv\")"
   ]
  },
  {
   "cell_type": "code",
   "execution_count": null,
   "id": "ca8598aa-7d9c-4e18-995a-2c401af79265",
   "metadata": {},
   "outputs": [],
   "source": [
    "df4"
   ]
  },
  {
   "cell_type": "code",
   "execution_count": null,
   "id": "ed18beae-2105-4ac2-9111-46442b8fdfab",
   "metadata": {},
   "outputs": [],
   "source": [
    "import numpy as np\n",
    "condition=[\n",
    "    (df4['profit']<250),\n",
    "    (df4['profit']>=250) & (df4['profit']<=500),\n",
    "    (df4['profit']>500)\n",
    "]\n",
    "results=['low','medum','high']\n",
    "df4['status']=np.select(condition,results,default='Unknown')\n",
    "df4"
   ]
  },
  {
   "cell_type": "code",
   "execution_count": null,
   "id": "083320d2-9107-410f-90a4-e2c23553f6aa",
   "metadata": {},
   "outputs": [],
   "source": [
    "df4.loc[df4['city']=='Chennai','state']='TN'\n",
    "df4.loc[df4['city'].isin(['Bangalore','Mysore']),'state']='Karnataka'"
   ]
  },
  {
   "cell_type": "code",
   "execution_count": null,
   "id": "4dde8ed4-009e-46e8-b258-4c64621cb325",
   "metadata": {},
   "outputs": [],
   "source": [
    "df4"
   ]
  },
  {
   "cell_type": "markdown",
   "id": "56c83d80-939f-4857-bc30-f3e78f5f2363",
   "metadata": {
    "jp-MarkdownHeadingCollapsed": true
   },
   "source": [
    "# Date and time"
   ]
  },
  {
   "cell_type": "code",
   "execution_count": null,
   "id": "41f280a7-52bd-4074-a4bb-e160a748951e",
   "metadata": {},
   "outputs": [],
   "source": [
    "df=pd.read_csv('http://bit.ly/uforeports')"
   ]
  },
  {
   "cell_type": "code",
   "execution_count": null,
   "id": "6abe8825-91c4-4968-934a-71ebf32d8bd3",
   "metadata": {},
   "outputs": [],
   "source": [
    "df"
   ]
  },
  {
   "cell_type": "code",
   "execution_count": null,
   "id": "a6e8573c-ed5d-4957-a240-c36403206dfb",
   "metadata": {},
   "outputs": [],
   "source": [
    "df.dtypes"
   ]
  },
  {
   "cell_type": "code",
   "execution_count": null,
   "id": "ecec4e92-7b5f-476b-bfeb-674c1134c732",
   "metadata": {},
   "outputs": [],
   "source": [
    "df['Time']=pd.to_datetime(df['Time'])"
   ]
  },
  {
   "cell_type": "code",
   "execution_count": null,
   "id": "d2076214-4de5-4c01-9b77-4eeecfae7cd2",
   "metadata": {},
   "outputs": [],
   "source": [
    "df.dtypes"
   ]
  },
  {
   "cell_type": "code",
   "execution_count": null,
   "id": "62c57691-87dd-4d2c-8e56-493ae15a5850",
   "metadata": {},
   "outputs": [],
   "source": [
    "df"
   ]
  },
  {
   "cell_type": "code",
   "execution_count": null,
   "id": "52c51ec0-3417-446f-aa32-8a9b46adc73c",
   "metadata": {},
   "outputs": [],
   "source": [
    "df2=df.copy()"
   ]
  },
  {
   "cell_type": "code",
   "execution_count": null,
   "id": "5a1bbed7-a203-44e4-9da7-82076842ea8d",
   "metadata": {},
   "outputs": [],
   "source": [
    "df2['newtime']=pd.to_datetime(df2['Time']) ##,format='%d-%Y-%m %H:%M:%S' give date format according to data"
   ]
  },
  {
   "cell_type": "code",
   "execution_count": null,
   "id": "a9b650ee-a601-4c9a-9a07-3214d936a468",
   "metadata": {},
   "outputs": [],
   "source": [
    "df.dtypes"
   ]
  },
  {
   "cell_type": "code",
   "execution_count": null,
   "id": "a680d427-ade8-4199-a280-9a48c6b8a71b",
   "metadata": {},
   "outputs": [],
   "source": [
    "## Year,month,day and lot"
   ]
  },
  {
   "cell_type": "code",
   "execution_count": null,
   "id": "0e7331fb-f7c1-471a-b246-6674f56a42ef",
   "metadata": {},
   "outputs": [],
   "source": [
    "# Convert to display format 'dd-mm-yyyy' for the Time column\n",
    "df2['Formatted_Time'] = df2['Time'].dt.strftime('%d-%m-%Y')\n"
   ]
  },
  {
   "cell_type": "code",
   "execution_count": null,
   "id": "1853eca2-4b85-4413-af55-c40665b9f581",
   "metadata": {},
   "outputs": [],
   "source": [
    "df2.dtypes"
   ]
  },
  {
   "cell_type": "code",
   "execution_count": null,
   "id": "ccb8d326-14ce-4e07-a2e3-291dac2b634f",
   "metadata": {},
   "outputs": [],
   "source": [
    "df2"
   ]
  },
  {
   "cell_type": "code",
   "execution_count": null,
   "id": "a23130b7-77a7-4e9e-ac90-eaf13633efcf",
   "metadata": {},
   "outputs": [],
   "source": [
    "df['year']=df['Time'].dt.year"
   ]
  },
  {
   "cell_type": "code",
   "execution_count": null,
   "id": "eea6d745-1f9b-4d67-b608-2367554ee936",
   "metadata": {},
   "outputs": [],
   "source": [
    "df['month']=df['Time'].dt.month"
   ]
  },
  {
   "cell_type": "code",
   "execution_count": null,
   "id": "d428e64d-c336-4805-bd5c-ba5bf6003941",
   "metadata": {},
   "outputs": [],
   "source": [
    "df['day']=df.Time.dt.day"
   ]
  },
  {
   "cell_type": "code",
   "execution_count": null,
   "id": "a155ae04-b22f-45ab-8f65-97c09ca8f92e",
   "metadata": {},
   "outputs": [],
   "source": [
    "df"
   ]
  },
  {
   "cell_type": "code",
   "execution_count": null,
   "id": "132ee8be-ee36-4a48-8ed0-6614e2917327",
   "metadata": {},
   "outputs": [],
   "source": [
    "df['date']=df['day'].astype(str)+'-'+df['month'].astype(str)+'-'+df['year'].astype(str)"
   ]
  },
  {
   "cell_type": "code",
   "execution_count": null,
   "id": "d8c7fc27-639d-4a06-a164-42b11a5d44ad",
   "metadata": {},
   "outputs": [],
   "source": [
    "df.drop('date2', axis=1, inplace=True)\n"
   ]
  },
  {
   "cell_type": "code",
   "execution_count": null,
   "id": "5c79df60-9af1-4213-8007-ee753ecc68bc",
   "metadata": {},
   "outputs": [],
   "source": [
    "df['date']=pd.to_datetime(df['date'],format='%d-%m-%Y')"
   ]
  },
  {
   "cell_type": "code",
   "execution_count": null,
   "id": "2b7d97dc-5b9a-47f3-9aca-4a36458eff7d",
   "metadata": {},
   "outputs": [],
   "source": [
    "df.dtypes"
   ]
  },
  {
   "cell_type": "code",
   "execution_count": null,
   "id": "98af2432-2bea-4021-9dcc-3709a04ab3a1",
   "metadata": {},
   "outputs": [],
   "source": [
    "df['formatted_date'] = df['date'].dt.strftime('%d-%m-%Y')"
   ]
  },
  {
   "cell_type": "code",
   "execution_count": null,
   "id": "73deadaa-22ef-4a6f-ba11-d57b0ac23f10",
   "metadata": {},
   "outputs": [],
   "source": [
    "df"
   ]
  },
  {
   "cell_type": "code",
   "execution_count": null,
   "id": "956a4170-8b00-45bc-bc29-e5b83e6bbd9a",
   "metadata": {},
   "outputs": [],
   "source": [
    "df['c_time']=pd.Timestamp.now().date()"
   ]
  },
  {
   "cell_type": "code",
   "execution_count": null,
   "id": "84bce6b4-80db-4f5e-8f37-93563f053aa1",
   "metadata": {},
   "outputs": [],
   "source": [
    "df"
   ]
  },
  {
   "cell_type": "code",
   "execution_count": null,
   "id": "03d03b20-dc21-419d-8cea-3e30764727f4",
   "metadata": {},
   "outputs": [],
   "source": [
    "df=df.drop('currentdatetime',axis=1)"
   ]
  },
  {
   "cell_type": "code",
   "execution_count": null,
   "id": "2dadec4f-273f-4857-93a1-ec021016ce88",
   "metadata": {},
   "outputs": [],
   "source": [
    "df['c_time']=pd.to_datetime(df['c_time'],format='%Y-%m-%d')"
   ]
  },
  {
   "cell_type": "code",
   "execution_count": null,
   "id": "df1b6246-7785-4273-8ae6-a3f58a17dbf5",
   "metadata": {},
   "outputs": [],
   "source": [
    "df"
   ]
  },
  {
   "cell_type": "code",
   "execution_count": null,
   "id": "be0a2655-47a1-4237-83a7-71a6ae9fff08",
   "metadata": {},
   "outputs": [],
   "source": [
    "df.dtypes"
   ]
  },
  {
   "cell_type": "code",
   "execution_count": null,
   "id": "6e7a1e9b-038f-4a9d-81af-2150e70e22d6",
   "metadata": {},
   "outputs": [],
   "source": [
    "df['diff']=(df['c_time']-df['formatted_date']).dt.days / 365 *12"
   ]
  },
  {
   "cell_type": "code",
   "execution_count": null,
   "id": "3fc423e9-053e-4b86-b6b2-f73216fbe3d0",
   "metadata": {},
   "outputs": [],
   "source": [
    "df"
   ]
  },
  {
   "cell_type": "code",
   "execution_count": null,
   "id": "901a050f-1035-4f50-af06-4f1dce4a2c94",
   "metadata": {},
   "outputs": [],
   "source": [
    "df['diff'] = (df['c_time'] - df['formatted_date']).dt.days / 365\n"
   ]
  },
  {
   "cell_type": "code",
   "execution_count": null,
   "id": "360a1ba5-413b-4e09-bfd4-9917e5d02173",
   "metadata": {},
   "outputs": [],
   "source": [
    "df['second']=df['Time'].dt.hour\n"
   ]
  },
  {
   "cell_type": "code",
   "execution_count": null,
   "id": "4464f84b-d5cd-4986-bfb6-9a433fc79919",
   "metadata": {},
   "outputs": [],
   "source": [
    "df[df['Time']<='1930-06-30 22:00:00']"
   ]
  },
  {
   "cell_type": "code",
   "execution_count": null,
   "id": "7b07681a-c1f9-43cb-94a1-2fc2d4305206",
   "metadata": {},
   "outputs": [],
   "source": [
    "df['Tame']=pd.Timestamp.now().strftime('%Y-%m-%d %H:%M:%S')"
   ]
  },
  {
   "cell_type": "code",
   "execution_count": null,
   "id": "a8ee3818-ad52-4572-b7ed-52bbb6a75d56",
   "metadata": {},
   "outputs": [],
   "source": [
    "df['Tame']=pd.to_datetime(df['Tame'])"
   ]
  },
  {
   "cell_type": "code",
   "execution_count": null,
   "id": "e708edd1-2eed-4b8a-821f-f64182366ed0",
   "metadata": {},
   "outputs": [],
   "source": [
    "df.dtypes"
   ]
  },
  {
   "cell_type": "code",
   "execution_count": null,
   "id": "c5242ba4-3b8f-4c1b-affe-901938bfc4f1",
   "metadata": {},
   "outputs": [],
   "source": [
    "df['diff']=df['Tame']-df['date']"
   ]
  },
  {
   "cell_type": "code",
   "execution_count": null,
   "id": "607c9f07-aa7e-4f9c-9cd8-d988f1ce110a",
   "metadata": {},
   "outputs": [],
   "source": [
    "df"
   ]
  },
  {
   "cell_type": "code",
   "execution_count": null,
   "id": "8e8d9364-8fdd-42a2-8291-f870d976661a",
   "metadata": {},
   "outputs": [],
   "source": [
    "df[df['Time'].dt.year==1944]"
   ]
  },
  {
   "cell_type": "code",
   "execution_count": null,
   "id": "3e416741-0f90-4fb7-8a2c-17e97a05f6d7",
   "metadata": {},
   "outputs": [],
   "source": []
  },
  {
   "cell_type": "markdown",
   "id": "bea1d134-d353-4e54-9f75-849513592c6f",
   "metadata": {
    "jp-MarkdownHeadingCollapsed": true
   },
   "source": [
    "# lngth subbstrung,instring"
   ]
  },
  {
   "cell_type": "code",
   "execution_count": null,
   "id": "2ad6fd11-043c-488f-8df3-bfc33b005a10",
   "metadata": {},
   "outputs": [],
   "source": [
    "df"
   ]
  },
  {
   "cell_type": "code",
   "execution_count": null,
   "id": "b6a2dd6b-0d87-4e18-a602-a227db98cf58",
   "metadata": {},
   "outputs": [],
   "source": []
  },
  {
   "cell_type": "markdown",
   "id": "12c98473-df76-4136-89b8-1fab77610a9c",
   "metadata": {},
   "source": [
    "# Duplicate and Null handeling\n"
   ]
  },
  {
   "cell_type": "markdown",
   "id": "204b5ee9-19eb-4d50-8199-82b4734716ac",
   "metadata": {},
   "source": [
    "## Duplicate"
   ]
  },
  {
   "cell_type": "code",
   "execution_count": null,
   "id": "9851ad9c-32ce-45c8-b11e-e2f113908c58",
   "metadata": {},
   "outputs": [],
   "source": [
    "import pandas as pd\n",
    "df=pd.read_csv(\"layoffs.csv\")"
   ]
  },
  {
   "cell_type": "code",
   "execution_count": null,
   "id": "ee52ec83-72b4-44d8-8870-e7e1675d6cd6",
   "metadata": {},
   "outputs": [],
   "source": [
    "df"
   ]
  },
  {
   "cell_type": "code",
   "execution_count": null,
   "id": "bded5486-1bce-4183-999d-59c3b86408e1",
   "metadata": {},
   "outputs": [],
   "source": [
    "df[df.duplicated()]"
   ]
  },
  {
   "cell_type": "code",
   "execution_count": null,
   "id": "c6ec6526-e8ca-45ce-a275-080eb752afad",
   "metadata": {},
   "outputs": [],
   "source": [
    "#df.fillna(0, inplace=True)\n",
    "#it will replace all the null value of entire table to 0(zer)"
   ]
  },
  {
   "cell_type": "code",
   "execution_count": null,
   "id": "efcead49-c636-4437-814e-75f5423431fc",
   "metadata": {},
   "outputs": [],
   "source": [
    "df[(df['country'] == 'India') & (df['percentage_laid_off'].isnull())]\n",
    "\n"
   ]
  },
  {
   "cell_type": "code",
   "execution_count": null,
   "id": "4b32be8b-7e06-4836-b180-4eecac62bbb7",
   "metadata": {},
   "outputs": [],
   "source": [
    "df[df['percentage_laid_off'].isnull()]"
   ]
  },
  {
   "cell_type": "markdown",
   "id": "7443fcab-79bf-46c0-bfaf-0764788338cf",
   "metadata": {},
   "source": [
    "### To delete particular row after filtering"
   ]
  },
  {
   "cell_type": "code",
   "execution_count": null,
   "id": "3e53e440-460b-4fce-805c-a049b7eb8ad5",
   "metadata": {},
   "outputs": [],
   "source": [
    "df.drop(df[df['company']=='Atlassian'].index,inplace=True)"
   ]
  },
  {
   "cell_type": "markdown",
   "id": "f1f9379c-f7bf-4b80-a7e3-dea4f8bfdee4",
   "metadata": {},
   "source": [
    "### Check the duplicates in entire table"
   ]
  },
  {
   "cell_type": "code",
   "execution_count": null,
   "id": "58cc9f21-c0f6-431c-86fb-dcbccca9f7e6",
   "metadata": {},
   "outputs": [],
   "source": [
    "df[df.duplicated()]"
   ]
  },
  {
   "cell_type": "code",
   "execution_count": null,
   "id": "ce3a4df0-aa39-4a59-925b-f306b683a39f",
   "metadata": {},
   "outputs": [],
   "source": [
    "df.groupby('country').agg({\n",
    "    'country':['count','min','max']\n",
    "})"
   ]
  },
  {
   "cell_type": "markdown",
   "id": "3b583666-0cf0-4ca7-8c52-479f61d9468c",
   "metadata": {},
   "source": [
    "### To drop all the dupliacte rows of table"
   ]
  },
  {
   "cell_type": "code",
   "execution_count": null,
   "id": "d498bca7-4e55-46a9-bb7b-4b513d8b9b32",
   "metadata": {},
   "outputs": [],
   "source": [
    "df.drop_duplicates(inplace=True)"
   ]
  },
  {
   "cell_type": "code",
   "execution_count": null,
   "id": "ff536bbc-3461-4b0e-83bc-73cd1a57aa7c",
   "metadata": {},
   "outputs": [],
   "source": [
    "df"
   ]
  },
  {
   "cell_type": "code",
   "execution_count": null,
   "id": "b4590c28-4772-4706-9855-34351b6c762b",
   "metadata": {},
   "outputs": [],
   "source": [
    "df.groupby(['company','country']).value_counts().reset_index()['count'].max()"
   ]
  },
  {
   "cell_type": "code",
   "execution_count": null,
   "id": "593192f1-988d-4604-9ede-84e02dab760c",
   "metadata": {},
   "outputs": [],
   "source": [
    "df.drop_duplicates(subset=['company','country'],inplace=True)"
   ]
  },
  {
   "cell_type": "code",
   "execution_count": null,
   "id": "710d95aa-83c9-4a73-bdd5-08274e00b68d",
   "metadata": {},
   "outputs": [],
   "source": [
    "df.groupby(['company','country']).value_counts().reset_index()['count'].max()"
   ]
  },
  {
   "cell_type": "markdown",
   "id": "1b63562c-bb2a-4e80-8ea9-1f2ba46a9198",
   "metadata": {},
   "source": [
    "### delete duplicate of particular column"
   ]
  },
  {
   "cell_type": "code",
   "execution_count": null,
   "id": "f2795412-fcef-4396-b9d7-5c95dcb58776",
   "metadata": {},
   "outputs": [],
   "source": [
    "df.drop_duplicates(subset=['country'],inplace=True)"
   ]
  },
  {
   "cell_type": "code",
   "execution_count": null,
   "id": "6627005a-4d88-4ac9-b97a-8475467bf6ba",
   "metadata": {},
   "outputs": [],
   "source": []
  },
  {
   "cell_type": "markdown",
   "id": "c828635b-91da-4562-9a84-d1b0846da3dd",
   "metadata": {},
   "source": [
    "## Null"
   ]
  },
  {
   "cell_type": "markdown",
   "id": "343893ce-ed35-4894-ae4a-dcd128200ab6",
   "metadata": {},
   "source": [
    "### Null value in entire table"
   ]
  },
  {
   "cell_type": "code",
   "execution_count": null,
   "id": "bd9345a5-850d-4385-965e-2ee1b69113b7",
   "metadata": {},
   "outputs": [],
   "source": [
    "df.isnull().sum()"
   ]
  },
  {
   "cell_type": "markdown",
   "id": "74968747-16e0-41f0-8344-c24381fea2fd",
   "metadata": {},
   "source": [
    "### Nul value in particulr column"
   ]
  },
  {
   "cell_type": "code",
   "execution_count": null,
   "id": "063ba98e-1bdb-42af-aea0-e5a656f4be55",
   "metadata": {},
   "outputs": [],
   "source": [
    "df['industry'].isnull().sum()"
   ]
  },
  {
   "cell_type": "markdown",
   "id": "b9181b53-2f81-4202-81b6-09ab310d4de6",
   "metadata": {},
   "source": [
    "### display  records that contain null records"
   ]
  },
  {
   "cell_type": "code",
   "execution_count": null,
   "id": "3b3354f5-af29-4a86-9abe-2fff1223cccf",
   "metadata": {},
   "outputs": [],
   "source": [
    "df[df['industry'].isnull()]"
   ]
  },
  {
   "cell_type": "code",
   "execution_count": null,
   "id": "13f1a02d-1e99-41bf-983e-a8f4416077a6",
   "metadata": {},
   "outputs": [],
   "source": [
    "### update null value of all table"
   ]
  },
  {
   "cell_type": "code",
   "execution_count": null,
   "id": "5fce058a-b0e1-461b-a075-25a77b9a1394",
   "metadata": {},
   "outputs": [],
   "source": [
    "df.fillna(0,inplace=True)"
   ]
  },
  {
   "cell_type": "code",
   "execution_count": null,
   "id": "c159e836-ffc3-4b5a-a814-42abf7070125",
   "metadata": {},
   "outputs": [],
   "source": [
    "df[df['industry']==0]"
   ]
  },
  {
   "cell_type": "code",
   "execution_count": null,
   "id": "cbfb80af-b5a7-47f0-9394-6536bbadd80a",
   "metadata": {},
   "outputs": [],
   "source": [
    "### update null value of particular record/column"
   ]
  },
  {
   "cell_type": "code",
   "execution_count": null,
   "id": "d1eb0375-baa1-4752-806e-640a94287745",
   "metadata": {},
   "outputs": [],
   "source": [
    "df.loc[df['industry'].isnull(),'industry']='Nitin'"
   ]
  },
  {
   "cell_type": "code",
   "execution_count": null,
   "id": "087d5b03-b121-4962-b2d5-ec49428fd3da",
   "metadata": {},
   "outputs": [],
   "source": [
    "df['industry'].isnull().sum()"
   ]
  },
  {
   "cell_type": "code",
   "execution_count": null,
   "id": "cc0a1b74-ac04-4255-b185-761b32d0a8c6",
   "metadata": {},
   "outputs": [],
   "source": [
    "df[df['industry']=='Nitin']"
   ]
  },
  {
   "cell_type": "code",
   "execution_count": null,
   "id": "38848f91-995b-4b50-b1b2-fb42f1628d1c",
   "metadata": {},
   "outputs": [],
   "source": [
    "df.loc[df['percentage_laid_off'].isnull(),'percentage_laid_off']=0"
   ]
  },
  {
   "cell_type": "code",
   "execution_count": null,
   "id": "e2d750ae-ee27-47b1-a4f4-48609e1909fc",
   "metadata": {},
   "outputs": [],
   "source": [
    "df['percentage_laid_off'].isnull().sum()"
   ]
  },
  {
   "cell_type": "markdown",
   "id": "dddf75ea-d80e-4e03-9469-1c959b9e67e3",
   "metadata": {},
   "source": [
    "### bad practice"
   ]
  },
  {
   "cell_type": "code",
   "execution_count": null,
   "id": "af02d019-72ed-4af6-b6a5-e14c4338d329",
   "metadata": {},
   "outputs": [],
   "source": [
    "df.loc[(df['location']=='Mumbai') & (df['country']=='India') & (df['stage']=='Unknown'),'percentage_laid_off']=0\n",
    "# bad practice\n",
    "# Corrected syntax using .loc for conditional assignment\n",
    "# df.loc[(df['location'] == 'Mumbai') & (df['country'] == 'India') & (df['stage'] == 'Unknown'), 'percentage_laid_off'] = 0\n"
   ]
  },
  {
   "cell_type": "code",
   "execution_count": null,
   "id": "26d181ab-8e47-458e-9be4-8f6dbc63cc75",
   "metadata": {},
   "outputs": [],
   "source": [
    "df.loc[(df['location']=='Mumbai') & (df['country']=='India') & (df['stage']=='Unknown')]"
   ]
  },
  {
   "cell_type": "markdown",
   "id": "eb73d23c-bc19-4be3-b3b7-691c63ff58bb",
   "metadata": {
    "jp-MarkdownHeadingCollapsed": true
   },
   "source": [
    "### update null value of particular column"
   ]
  },
  {
   "cell_type": "code",
   "execution_count": null,
   "id": "2fd4ce3c-99b2-4c64-bb5b-895f0e5f507e",
   "metadata": {},
   "outputs": [],
   "source": [
    "df['total_laid_off']=df['total_laid_off'].fillna('0')"
   ]
  },
  {
   "cell_type": "code",
   "execution_count": null,
   "id": "bfe99d1a-52bb-48e8-a197-c6380c143b55",
   "metadata": {},
   "outputs": [],
   "source": [
    "df['total_laid_off'].isnull().sum()"
   ]
  },
  {
   "cell_type": "markdown",
   "id": "cedad5d6-22d1-439f-9181-044c977f0368",
   "metadata": {
    "jp-MarkdownHeadingCollapsed": true
   },
   "source": [
    "### fill all null values of all tables"
   ]
  },
  {
   "cell_type": "code",
   "execution_count": null,
   "id": "1e079ffe-3bd7-4a86-9154-4368b6acd19a",
   "metadata": {},
   "outputs": [],
   "source": [
    "df.fillna(0,inplace=True)"
   ]
  },
  {
   "cell_type": "code",
   "execution_count": null,
   "id": "381fc46f-f378-4a74-b279-68b3eb09effb",
   "metadata": {},
   "outputs": [],
   "source": [
    "df.isnull().sum()"
   ]
  },
  {
   "cell_type": "markdown",
   "id": "b74a8ac1-2d9d-4ccb-909d-337c6c48ff29",
   "metadata": {
    "jp-MarkdownHeadingCollapsed": true
   },
   "source": [
    "### delete all null values of particular columns and all table"
   ]
  },
  {
   "cell_type": "code",
   "execution_count": null,
   "id": "f9dcf027-d230-4356-8bd4-ddbe90248502",
   "metadata": {},
   "outputs": [],
   "source": [
    "df = df.dropna(subset=['industry'])\n",
    "df['industry'].isnull().sum()"
   ]
  },
  {
   "cell_type": "code",
   "execution_count": null,
   "id": "9fd6bc99-1e30-4efb-93c2-ab8f1d8a8b0a",
   "metadata": {},
   "outputs": [],
   "source": [
    "df.dropna()"
   ]
  },
  {
   "cell_type": "code",
   "execution_count": null,
   "id": "f1683beb-5a02-4825-b072-e5393e6bf603",
   "metadata": {},
   "outputs": [],
   "source": [
    "df.isnull().sum()"
   ]
  },
  {
   "cell_type": "code",
   "execution_count": null,
   "id": "d8c1b727-9e2e-4321-a51c-545be76a4e3d",
   "metadata": {},
   "outputs": [],
   "source": [
    "import numpy as np\n",
    "df.loc[df['country'] == 'India', 'age'] = np.nan\n"
   ]
  },
  {
   "cell_type": "code",
   "execution_count": null,
   "id": "859ead1a-2755-402e-8455-14a3e8b2cf70",
   "metadata": {},
   "outputs": [],
   "source": [
    "df"
   ]
  },
  {
   "cell_type": "markdown",
   "id": "699e060b-de66-4223-9e32-086631c864e6",
   "metadata": {
    "jp-MarkdownHeadingCollapsed": true
   },
   "source": [
    "# New topic"
   ]
  },
  {
   "cell_type": "code",
   "execution_count": null,
   "id": "38181568-46f4-4a04-94e0-81fd15ca9237",
   "metadata": {},
   "outputs": [],
   "source": [
    "df"
   ]
  },
  {
   "cell_type": "markdown",
   "id": "fe33314f-a114-4723-8000-ea81ad40d5cf",
   "metadata": {
    "jp-MarkdownHeadingCollapsed": true
   },
   "source": [
    "## Use of lambda"
   ]
  },
  {
   "cell_type": "code",
   "execution_count": null,
   "id": "02a68b99-472e-47b9-9075-760c018e7336",
   "metadata": {},
   "outputs": [],
   "source": [
    "df['company'].apply(lambda x:x[0:3]+'-'+x[3:])"
   ]
  },
  {
   "cell_type": "markdown",
   "id": "976c6c1b-70a9-4be8-9fe1-7cdbae1d0f2b",
   "metadata": {},
   "source": [
    "## Drop Column"
   ]
  },
  {
   "cell_type": "code",
   "execution_count": null,
   "id": "f3a9b6c1-60d5-46a9-b0a7-9c74dfcc2e44",
   "metadata": {},
   "outputs": [],
   "source": [
    "df.drop('age',axis=1,inplace=True)"
   ]
  },
  {
   "cell_type": "code",
   "execution_count": null,
   "id": "3ecf6532-6b72-437e-928d-d12d449028ad",
   "metadata": {},
   "outputs": [],
   "source": [
    "df"
   ]
  },
  {
   "cell_type": "code",
   "execution_count": null,
   "id": "bceb5034-fb64-4f4f-820c-bf525fd7b227",
   "metadata": {},
   "outputs": [],
   "source": [
    "df.rename(columns={'company':'com.'},inplace=True)"
   ]
  },
  {
   "cell_type": "code",
   "execution_count": null,
   "id": "1c20a8b6-a5aa-49a9-aa2e-565ad03d3fd1",
   "metadata": {},
   "outputs": [],
   "source": [
    "df"
   ]
  },
  {
   "cell_type": "code",
   "execution_count": null,
   "id": "8591d5df-86da-41e6-a43f-18c1f983718b",
   "metadata": {},
   "outputs": [],
   "source": [
    "df.describe()"
   ]
  },
  {
   "cell_type": "markdown",
   "id": "c1047c61-a127-4cec-9111-2757a3abebd3",
   "metadata": {},
   "source": [
    "# Joins and Set of sql"
   ]
  },
  {
   "cell_type": "markdown",
   "id": "55ba477e-6b1c-4330-b0ba-c8d99f42862b",
   "metadata": {
    "jp-MarkdownHeadingCollapsed": true
   },
   "source": [
    "## Joins"
   ]
  },
  {
   "cell_type": "code",
   "execution_count": null,
   "id": "e521715f-0262-416b-bf31-2bb08bbdff88",
   "metadata": {},
   "outputs": [],
   "source": [
    "import pandas as pd\n",
    "df1=pd.read_csv(r'C:\\Users\\Anshu\\Desktop\\New folder (3)\\automation testing notes\\project\\ETL\\Raw_data\\coffee\\city.csv')\n",
    "df2=pd.read_csv(r'C:\\Users\\Anshu\\Desktop\\New folder (3)\\automation testing notes\\project\\ETL\\Raw_data\\coffee\\customers.csv')"
   ]
  },
  {
   "cell_type": "code",
   "execution_count": null,
   "id": "438f2641-d2bd-44ea-8255-024c6a8e502a",
   "metadata": {},
   "outputs": [],
   "source": [
    "df1"
   ]
  },
  {
   "cell_type": "code",
   "execution_count": null,
   "id": "3a64409d-f324-49ec-89a0-5b14af5ca00f",
   "metadata": {},
   "outputs": [],
   "source": [
    "df2"
   ]
  },
  {
   "cell_type": "markdown",
   "id": "d1f7060b-5c9b-40d7-8fa4-d266681d1fdc",
   "metadata": {},
   "source": [
    "### Inner join "
   ]
  },
  {
   "cell_type": "code",
   "execution_count": null,
   "id": "85f92926-f0a9-4a16-a728-357e79a8390a",
   "metadata": {},
   "outputs": [],
   "source": [
    "result=df1.merge(df2,how ='inner') ##bad practice"
   ]
  },
  {
   "cell_type": "code",
   "execution_count": null,
   "id": "eb3e0d46-7a14-4a33-99c0-60cc4097675b",
   "metadata": {},
   "outputs": [],
   "source": [
    "result"
   ]
  },
  {
   "cell_type": "code",
   "execution_count": null,
   "id": "68160021-6313-47a2-b1d2-b66eda74d632",
   "metadata": {},
   "outputs": [],
   "source": [
    "result_inner=pd.merge(df1,df2, on='city_id',how='inner')"
   ]
  },
  {
   "cell_type": "code",
   "execution_count": null,
   "id": "7fb02278-e6df-4590-8f91-e5934c606d9e",
   "metadata": {},
   "outputs": [],
   "source": [
    "#merged_df = pd.merge(df1, df2, on=\"key_column\", how=\"inner\")\n",
    "result_inner"
   ]
  },
  {
   "cell_type": "markdown",
   "id": "2d2f5625-06d7-452d-a986-374bc02f6323",
   "metadata": {},
   "source": [
    "### left join"
   ]
  },
  {
   "cell_type": "code",
   "execution_count": null,
   "id": "1024260f-091c-41a6-86af-222fb389fc67",
   "metadata": {},
   "outputs": [],
   "source": [
    "result=df1.merge(df2,how='left')"
   ]
  },
  {
   "cell_type": "code",
   "execution_count": null,
   "id": "108ce5c0-512d-4193-b394-099d7e6a6c95",
   "metadata": {},
   "outputs": [],
   "source": [
    "result"
   ]
  },
  {
   "cell_type": "code",
   "execution_count": null,
   "id": "88aaa7c5-7aa2-483c-9ef5-a5dec5b5b47c",
   "metadata": {},
   "outputs": [],
   "source": [
    "result_left=pd.merge(df1,df2,how='left')"
   ]
  },
  {
   "cell_type": "code",
   "execution_count": null,
   "id": "14803dfe-6299-4d47-8ab9-75f9ebab7caf",
   "metadata": {},
   "outputs": [],
   "source": [
    "result_left"
   ]
  },
  {
   "cell_type": "code",
   "execution_count": null,
   "id": "ed61099d-da35-4168-9b4f-2b2af656bd7d",
   "metadata": {},
   "outputs": [],
   "source": [
    "result=pd.merge(df1,df2, on='city_id',how='left',indicator=True).query(\"_merge != 'both'\")"
   ]
  },
  {
   "cell_type": "code",
   "execution_count": null,
   "id": "6f1dd12e-c885-49e7-a390-294420d8addd",
   "metadata": {},
   "outputs": [],
   "source": [
    "result"
   ]
  },
  {
   "cell_type": "markdown",
   "id": "23cf4e07-0607-419e-a112-87d3499ceaff",
   "metadata": {},
   "source": [
    "### Right join"
   ]
  },
  {
   "cell_type": "code",
   "execution_count": null,
   "id": "6c1b42ac-4668-450a-a39b-bab1169142dc",
   "metadata": {},
   "outputs": [],
   "source": [
    "result=df1.merge(df2,how='right')"
   ]
  },
  {
   "cell_type": "code",
   "execution_count": null,
   "id": "30965172-394b-4b70-b361-792923a61512",
   "metadata": {},
   "outputs": [],
   "source": [
    "result"
   ]
  },
  {
   "cell_type": "code",
   "execution_count": null,
   "id": "740662cf-eb02-4b4e-a6d4-a2cd119a7487",
   "metadata": {},
   "outputs": [],
   "source": [
    "result_right=pd.merge(df1,df2, on='city_id', how='right')"
   ]
  },
  {
   "cell_type": "code",
   "execution_count": null,
   "id": "2cadcdbe-f1de-4a7e-8a4b-fccd96a8dce8",
   "metadata": {},
   "outputs": [],
   "source": [
    "result_right"
   ]
  },
  {
   "cell_type": "code",
   "execution_count": null,
   "id": "46a17bd9-9174-4338-bbae-89560d7a8973",
   "metadata": {},
   "outputs": [],
   "source": [
    "result=pd.merge(df1,df2,on='city_id',how='right',indicator=True).query(\"_merge!='both'\")"
   ]
  },
  {
   "cell_type": "code",
   "execution_count": null,
   "id": "56c04164-a7b3-41a3-9333-23dd6d0573b5",
   "metadata": {},
   "outputs": [],
   "source": [
    "result"
   ]
  },
  {
   "cell_type": "markdown",
   "id": "d99ba1c9-834b-4be7-9b25-bf6d9c6edef5",
   "metadata": {},
   "source": [
    "### outer"
   ]
  },
  {
   "cell_type": "code",
   "execution_count": null,
   "id": "7b44e60a-6b05-41e6-9ae3-6289d0aea135",
   "metadata": {},
   "outputs": [],
   "source": [
    "result=df1.merge(df2 ,how='outer')"
   ]
  },
  {
   "cell_type": "code",
   "execution_count": null,
   "id": "e92a9837-28f3-478b-b58b-bb8b91b27a7e",
   "metadata": {},
   "outputs": [],
   "source": [
    "result"
   ]
  },
  {
   "cell_type": "code",
   "execution_count": null,
   "id": "3c35dd13-3de5-4ea7-98d2-dc4a580369fd",
   "metadata": {},
   "outputs": [],
   "source": [
    "result_outer=pd.merge(df1,df2, on='city_id', how='outer')"
   ]
  },
  {
   "cell_type": "code",
   "execution_count": null,
   "id": "dc04b750-2438-4699-8e0a-2718cb5196a7",
   "metadata": {},
   "outputs": [],
   "source": [
    "result_outer"
   ]
  },
  {
   "cell_type": "code",
   "execution_count": null,
   "id": "29d1f313-b8ea-41f0-a095-c2a9070e94c1",
   "metadata": {},
   "outputs": [],
   "source": [
    "result=pd.merge(df1,df2,on='city_id',how='outer',indicator=True).query(\"_merge!='both'\")"
   ]
  },
  {
   "cell_type": "code",
   "execution_count": null,
   "id": "8534e731-f0b0-4efc-9e04-32a998aa5f82",
   "metadata": {},
   "outputs": [],
   "source": [
    "result"
   ]
  },
  {
   "cell_type": "code",
   "execution_count": null,
   "id": "848a116b-4b6a-42a1-b379-38445bebd6c5",
   "metadata": {},
   "outputs": [],
   "source": []
  },
  {
   "cell_type": "markdown",
   "id": "7fae7e8e-c163-4e56-b600-08bbc113e5a6",
   "metadata": {},
   "source": [
    "### Cross join"
   ]
  },
  {
   "cell_type": "code",
   "execution_count": null,
   "id": "63a08eef-be57-4ba9-a71c-53dcff47bebe",
   "metadata": {},
   "outputs": [],
   "source": [
    "result_cross=pd.merge(df1,df2,how='cross')"
   ]
  },
  {
   "cell_type": "code",
   "execution_count": null,
   "id": "845396e6-acdb-44ee-82fa-8a6faba5c223",
   "metadata": {
    "scrolled": true
   },
   "outputs": [],
   "source": [
    "result_cross"
   ]
  },
  {
   "cell_type": "markdown",
   "id": "f81d240e-8ba9-4a05-931f-3c5d9be0b8c8",
   "metadata": {
    "jp-MarkdownHeadingCollapsed": true
   },
   "source": [
    "## Set operator of sql"
   ]
  },
  {
   "cell_type": "code",
   "execution_count": null,
   "id": "d1e421f6-15dc-453b-b3f9-a3e592e9c6cf",
   "metadata": {},
   "outputs": [],
   "source": [
    "import pandas as pd\n",
    "df1=pd.read_csv(r'C:\\Users\\Anshu\\Desktop\\New folder (3)\\automation testing notes\\project\\ETL\\Raw_data\\coffee\\city.csv')\n",
    "df2=pd.read_csv(r'C:\\Users\\Anshu\\Desktop\\New folder (3)\\automation testing notes\\project\\ETL\\Raw_data\\coffee\\citynew.csv')"
   ]
  },
  {
   "cell_type": "code",
   "execution_count": null,
   "id": "d0659d35-4e75-426c-a27d-c2abdaa5d714",
   "metadata": {},
   "outputs": [],
   "source": [
    "### Union"
   ]
  },
  {
   "cell_type": "code",
   "execution_count": null,
   "id": "d3254713-f211-4c5d-9eb2-a6bb0dbb57cf",
   "metadata": {},
   "outputs": [],
   "source": [
    "union=pd.concat([df2,df1]).drop_duplicates().reset_index(drop=True)"
   ]
  },
  {
   "cell_type": "code",
   "execution_count": null,
   "id": "27e1b389-7b8c-4ef8-82a9-71f230565528",
   "metadata": {},
   "outputs": [],
   "source": [
    "union"
   ]
  },
  {
   "cell_type": "code",
   "execution_count": null,
   "id": "1b9bbdcc-61f4-48f3-9138-3c3d6cd344f9",
   "metadata": {},
   "outputs": [],
   "source": [
    "union=pd.concat([df2,df1]).drop_duplicates()"
   ]
  },
  {
   "cell_type": "code",
   "execution_count": null,
   "id": "08b65325-5b52-456f-afbd-ff94b29ef93c",
   "metadata": {},
   "outputs": [],
   "source": [
    "union"
   ]
  },
  {
   "cell_type": "code",
   "execution_count": null,
   "id": "fd0b32f8-9238-4bb5-9bae-e4ba1929f01c",
   "metadata": {},
   "outputs": [],
   "source": [
    "### Union all\n"
   ]
  },
  {
   "cell_type": "code",
   "execution_count": null,
   "id": "8890db50-9e85-4a31-bb42-b4ee2938a669",
   "metadata": {},
   "outputs": [],
   "source": [
    "union_all=pd.concat([df1,df2]).reset_index(drop=True)"
   ]
  },
  {
   "cell_type": "code",
   "execution_count": null,
   "id": "674dffde-9e03-4691-abe3-76ab764b2790",
   "metadata": {},
   "outputs": [],
   "source": [
    "union_all"
   ]
  },
  {
   "cell_type": "code",
   "execution_count": null,
   "id": "86f57433-13d6-422f-9448-2726ef992f8d",
   "metadata": {},
   "outputs": [],
   "source": [
    "union_all=pd.concat([df1,df2])"
   ]
  },
  {
   "cell_type": "code",
   "execution_count": null,
   "id": "373ffcbb-fa21-43e9-87dc-786c0ce6b0fd",
   "metadata": {},
   "outputs": [],
   "source": [
    "union_all"
   ]
  },
  {
   "cell_type": "code",
   "execution_count": null,
   "id": "2d34c01d-a380-4068-b30b-82bf53334fec",
   "metadata": {},
   "outputs": [],
   "source": [
    "### intersect"
   ]
  },
  {
   "cell_type": "code",
   "execution_count": null,
   "id": "f29cbcf3-b1ac-49e4-9ae7-f6ddddbe0bfe",
   "metadata": {},
   "outputs": [],
   "source": [
    "import pandas as pd\n",
    "df1=pd.read_csv(r'C:\\Users\\Anshu\\Desktop\\New folder (3)\\automation testing notes\\project\\ETL\\Raw_data\\coffee\\city.csv')\n",
    "df2=pd.read_csv(r'C:\\Users\\Anshu\\Desktop\\New folder (3)\\automation testing notes\\project\\ETL\\Raw_data\\coffee\\citynew.csv')"
   ]
  },
  {
   "cell_type": "code",
   "execution_count": null,
   "id": "5bf5f46e-7fa3-410d-80ac-3f033bf2239e",
   "metadata": {},
   "outputs": [],
   "source": [
    "df2"
   ]
  },
  {
   "cell_type": "markdown",
   "id": "41d19f66-8f23-4d19-9542-184a1e2e6940",
   "metadata": {},
   "source": [
    "### INTERSECT"
   ]
  },
  {
   "cell_type": "code",
   "execution_count": null,
   "id": "cd40af41-90f7-4aab-b95e-0a6ad6bc74d4",
   "metadata": {},
   "outputs": [],
   "source": [
    "intersect_df = pd.merge(df1, df2, how='inner')\n",
    "intersect_df.drop_duplicates()"
   ]
  },
  {
   "cell_type": "code",
   "execution_count": null,
   "id": "d1252c41-77ee-4cfb-8262-7b42298bb2e8",
   "metadata": {},
   "outputs": [],
   "source": [
    "intersect=pd.merge(df1,df2)"
   ]
  },
  {
   "cell_type": "code",
   "execution_count": null,
   "id": "406269bb-108a-4dfd-b4ec-41f8a3fafecd",
   "metadata": {},
   "outputs": [],
   "source": [
    "intersect\n"
   ]
  },
  {
   "cell_type": "code",
   "execution_count": null,
   "id": "1e8e940c-6f29-4946-8d86-d15bf52c0010",
   "metadata": {},
   "outputs": [],
   "source": [
    "a_b=df1.merge(df2,how='outer',indicator=True).query(\"_merge!='both'\")"
   ]
  },
  {
   "cell_type": "code",
   "execution_count": null,
   "id": "33d63429-2053-4b9e-a450-2337d0c0146f",
   "metadata": {},
   "outputs": [],
   "source": [
    "a_b"
   ]
  },
  {
   "cell_type": "code",
   "execution_count": null,
   "id": "65880cdc-7f62-4178-9420-666fde5db94d",
   "metadata": {},
   "outputs": [],
   "source": [
    "df1"
   ]
  },
  {
   "cell_type": "code",
   "execution_count": null,
   "id": "2138d299-f6c9-47f9-83d6-a57aaebd58e3",
   "metadata": {},
   "outputs": [],
   "source": [
    "df2"
   ]
  },
  {
   "cell_type": "code",
   "execution_count": null,
   "id": "ee626b24-47f0-4acb-ba6c-261362242a54",
   "metadata": {},
   "outputs": [],
   "source": []
  },
  {
   "cell_type": "code",
   "execution_count": null,
   "id": "6482a214-51a3-490d-966c-81d990c6f1eb",
   "metadata": {},
   "outputs": [],
   "source": []
  }
 ],
 "metadata": {
  "kernelspec": {
   "display_name": "Python 3 (ipykernel)",
   "language": "python",
   "name": "python3"
  },
  "language_info": {
   "codemirror_mode": {
    "name": "ipython",
    "version": 3
   },
   "file_extension": ".py",
   "mimetype": "text/x-python",
   "name": "python",
   "nbconvert_exporter": "python",
   "pygments_lexer": "ipython3",
   "version": "3.10.4"
  }
 },
 "nbformat": 4,
 "nbformat_minor": 5
}
